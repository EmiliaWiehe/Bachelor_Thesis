{
 "cells": [
  {
   "cell_type": "markdown",
   "metadata": {},
   "source": [
    "### Vision Transformer"
   ]
  },
  {
   "cell_type": "markdown",
   "metadata": {},
   "source": [
    "Load Libraries    "
   ]
  },
  {
   "cell_type": "code",
   "execution_count": 1,
   "metadata": {},
   "outputs": [
    {
     "name": "stderr",
     "output_type": "stream",
     "text": [
      "c:\\Users\\OMEN\\anaconda3\\envs\\bachelor_thesis\\lib\\site-packages\\tqdm\\auto.py:21: TqdmWarning: IProgress not found. Please update jupyter and ipywidgets. See https://ipywidgets.readthedocs.io/en/stable/user_install.html\n",
      "  from .autonotebook import tqdm as notebook_tqdm\n",
      "\u001b[34m\u001b[1mwandb\u001b[0m: Using wandb-core as the SDK backend.  Please refer to https://wandb.me/wandb-core for more information.\n",
      "\u001b[34m\u001b[1mwandb\u001b[0m: Currently logged in as: \u001b[33mewiehe\u001b[0m (\u001b[33mewiehe-osna\u001b[0m) to \u001b[32mhttps://api.wandb.ai\u001b[0m. Use \u001b[1m`wandb login --relogin`\u001b[0m to force relogin\n"
     ]
    },
    {
     "data": {
      "text/plain": [
       "True"
      ]
     },
     "execution_count": 1,
     "metadata": {},
     "output_type": "execute_result"
    }
   ],
   "source": [
    "import wandb\n",
    "import torch\n",
    "import torch.nn as nn\n",
    "import torch.optim as optim\n",
    "from torch.utils.data import DataLoader, WeightedRandomSampler\n",
    "from collections import Counter\n",
    "import pandas as pd\n",
    "import numpy as np\n",
    "import tqdm\n",
    "import time\n",
    "import os\n",
    "import sys\n",
    "from pathlib import Path\n",
    "from tqdm import tqdm\n",
    "from sklearn.metrics import accuracy_score, classification_report, confusion_matrix\n",
    "import seaborn as sns\n",
    "import matplotlib.pyplot as plt\n",
    "\n",
    "import sys\n",
    "from pathlib import Path\n",
    "\n",
    "project_root = Path().resolve().parent\n",
    "if str(project_root) not in sys.path:\n",
    "    sys.path.append(str(project_root))\n",
    "\n",
    "from src.data_loader import get_dataloaders\n",
    "from src.log import log_experiment_results, save_loss_curve, save_confusion_matrix\n",
    "from src.vit_model import build_vit_model\n",
    "from src.early_stopping import EarlyStopping\n",
    "\n",
    "# Secure W&B Login\n",
    "wandb.login()"
   ]
  },
  {
   "cell_type": "markdown",
   "metadata": {},
   "source": [
    "Set Parameters"
   ]
  },
  {
   "cell_type": "code",
   "execution_count": 2,
   "metadata": {},
   "outputs": [],
   "source": [
    "# Experiment parameter options\n",
    "pretrained_options = [True, False]\n",
    "learning_rates = [0.001, 0.0001, 0.00001]\n",
    "batch_sizes = [1, 8, 16, 32]\n",
    "epochs = 30\n",
    "augmentation = False\n",
    "use_stable_diffusion = False"
   ]
  },
  {
   "cell_type": "markdown",
   "metadata": {},
   "source": [
    "Load data set"
   ]
  },
  {
   "cell_type": "code",
   "execution_count": null,
   "metadata": {},
   "outputs": [],
   "source": [
    "# Load data set based on the selected option\n",
    "if use_stable_diffusion:\n",
    "    data_dir = r\"C:\\Users\\OMEN\\Documents\\BA_Code\\stable_diffusion_data\"\n",
    "else:\n",
    "    data_dir = r\"C:\\Users\\OMEN\\Documents\\BA_Code\\data\"\n",
    "# Load dataset (train & validation loaders)\n",
    "train_loader, val_loader = get_dataloaders(data_dir, augment=augmentation)\n",
    "\n",
    "# Set device\n",
    "device = torch.device(\"cuda\" if torch.cuda.is_available() else \"cpu\")\n"
   ]
  },
  {
   "cell_type": "code",
   "execution_count": 4,
   "metadata": {},
   "outputs": [],
   "source": [
    "# Define class names\n",
    "class_names = [\"lie\", \"run\", \"sit\", \"walk_stand\"]\n",
    "\n",
    "# Define class mapping (make sure it matches your labels)\n",
    "class_map = {\"lie\": 0, \"run\": 1, \"sit\": 2, \"walk_stand\": 3}\n",
    "\n",
    "# Initialize Early Stopping\n",
    "best_val_loss = float(\"inf\")\n",
    "best_conf_matrix_path = None  "
   ]
  },
  {
   "cell_type": "code",
   "execution_count": null,
   "metadata": {},
   "outputs": [
    {
     "name": "stderr",
     "output_type": "stream",
     "text": [
      "Pretrained Options:   0%|          | 0/2 [00:00<?, ?it/s]\n",
      "\u001b[A"
     ]
    },
    {
     "data": {
      "text/html": [
       "Tracking run with wandb version 0.19.7"
      ],
      "text/plain": [
       "<IPython.core.display.HTML object>"
      ]
     },
     "metadata": {},
     "output_type": "display_data"
    },
    {
     "data": {
      "text/html": [
       "Run data is saved locally in <code>c:\\Users\\OMEN\\Documents\\BA_Code\\notebooks\\wandb\\run-20250401_145903-8obv3l91</code>"
      ],
      "text/plain": [
       "<IPython.core.display.HTML object>"
      ]
     },
     "metadata": {},
     "output_type": "display_data"
    },
    {
     "data": {
      "text/html": [
       "Syncing run <strong><a href='https://wandb.ai/ewiehe-osna/animal-posture-classification/runs/8obv3l91' target=\"_blank\">atomic-elevator-1199</a></strong> to <a href='https://wandb.ai/ewiehe-osna/animal-posture-classification' target=\"_blank\">Weights & Biases</a> (<a href='https://wandb.me/developer-guide' target=\"_blank\">docs</a>)<br>"
      ],
      "text/plain": [
       "<IPython.core.display.HTML object>"
      ]
     },
     "metadata": {},
     "output_type": "display_data"
    },
    {
     "data": {
      "text/html": [
       " View project at <a href='https://wandb.ai/ewiehe-osna/animal-posture-classification' target=\"_blank\">https://wandb.ai/ewiehe-osna/animal-posture-classification</a>"
      ],
      "text/plain": [
       "<IPython.core.display.HTML object>"
      ]
     },
     "metadata": {},
     "output_type": "display_data"
    },
    {
     "data": {
      "text/html": [
       " View run at <a href='https://wandb.ai/ewiehe-osna/animal-posture-classification/runs/8obv3l91' target=\"_blank\">https://wandb.ai/ewiehe-osna/animal-posture-classification/runs/8obv3l91</a>"
      ],
      "text/plain": [
       "<IPython.core.display.HTML object>"
      ]
     },
     "metadata": {},
     "output_type": "display_data"
    },
    {
     "name": "stderr",
     "output_type": "stream",
     "text": [
      "\n",
      "\n",
      "\u001b[A\u001b[A\n",
      "\n",
      "\u001b[A\u001b[A\n",
      "\n",
      "\u001b[A\u001b[A\n",
      "\n",
      "\u001b[A\u001b[A\n",
      "\n",
      "\u001b[A\u001b[A\n",
      "\n",
      "\u001b[A\u001b[A"
     ]
    },
    {
     "name": "stdout",
     "output_type": "stream",
     "text": [
      "Early stopping triggered. Loading best model.\n"
     ]
    },
    {
     "name": "stderr",
     "output_type": "stream",
     "text": [
      "Epochs:  17%|█▋        | 5/30 [07:07<35:39, 85.58s/it]"
     ]
    },
    {
     "name": "stdout",
     "output_type": "stream",
     "text": [
      "Early stopping triggered at epoch 6. Stopping training.\n"
     ]
    },
    {
     "name": "stderr",
     "output_type": "stream",
     "text": [
      "\n"
     ]
    },
    {
     "data": {
      "text/html": [],
      "text/plain": [
       "<IPython.core.display.HTML object>"
      ]
     },
     "metadata": {},
     "output_type": "display_data"
    },
    {
     "data": {
      "text/html": [
       "<br>    <style><br>        .wandb-row {<br>            display: flex;<br>            flex-direction: row;<br>            flex-wrap: wrap;<br>            justify-content: flex-start;<br>            width: 100%;<br>        }<br>        .wandb-col {<br>            display: flex;<br>            flex-direction: column;<br>            flex-basis: 100%;<br>            flex: 1;<br>            padding: 10px;<br>        }<br>    </style><br><div class=\"wandb-row\"><div class=\"wandb-col\"><h3>Run history:</h3><br/><table class=\"wandb\"><tr><td>actual_epochs</td><td>▁▂▄▅▇█</td></tr><tr><td>epoch</td><td>▁▂▄▅▇█</td></tr><tr><td>f1_score</td><td>▁█▁▇▇▁</td></tr><tr><td>precision</td><td>▁█▁▇▇▁</td></tr><tr><td>recall</td><td>▁█▁██▁</td></tr><tr><td>train_loss</td><td>█▂▂▂▂▁</td></tr><tr><td>val_accuracy</td><td>▁█▁██▁</td></tr><tr><td>val_loss</td><td>█▁▃▆▄▂</td></tr></table><br/></div><div class=\"wandb-col\"><h3>Run summary:</h3><br/><table class=\"wandb\"><tr><td>actual_epochs</td><td>6</td></tr><tr><td>epoch</td><td>6</td></tr><tr><td>f1_score</td><td>0.01549</td></tr><tr><td>precision</td><td>0.00846</td></tr><tr><td>recall</td><td>0.09195</td></tr><tr><td>train_loss</td><td>1.41518</td></tr><tr><td>val_accuracy</td><td>0.09195</td></tr><tr><td>val_loss</td><td>1.4015</td></tr></table><br/></div></div>"
      ],
      "text/plain": [
       "<IPython.core.display.HTML object>"
      ]
     },
     "metadata": {},
     "output_type": "display_data"
    },
    {
     "data": {
      "text/html": [
       " View run <strong style=\"color:#cdcd00\">atomic-elevator-1199</strong> at: <a href='https://wandb.ai/ewiehe-osna/animal-posture-classification/runs/8obv3l91' target=\"_blank\">https://wandb.ai/ewiehe-osna/animal-posture-classification/runs/8obv3l91</a><br> View project at: <a href='https://wandb.ai/ewiehe-osna/animal-posture-classification' target=\"_blank\">https://wandb.ai/ewiehe-osna/animal-posture-classification</a><br>Synced 5 W&B file(s), 7 media file(s), 0 artifact file(s) and 0 other file(s)"
      ],
      "text/plain": [
       "<IPython.core.display.HTML object>"
      ]
     },
     "metadata": {},
     "output_type": "display_data"
    },
    {
     "data": {
      "text/html": [
       "Find logs at: <code>.\\wandb\\run-20250401_145903-8obv3l91\\logs</code>"
      ],
      "text/plain": [
       "<IPython.core.display.HTML object>"
      ]
     },
     "metadata": {},
     "output_type": "display_data"
    },
    {
     "name": "stderr",
     "output_type": "stream",
     "text": [
      "\n",
      "\u001b[A"
     ]
    },
    {
     "data": {
      "text/html": [
       "Tracking run with wandb version 0.19.7"
      ],
      "text/plain": [
       "<IPython.core.display.HTML object>"
      ]
     },
     "metadata": {},
     "output_type": "display_data"
    },
    {
     "data": {
      "text/html": [
       "Run data is saved locally in <code>c:\\Users\\OMEN\\Documents\\BA_Code\\notebooks\\wandb\\run-20250401_150616-0uwn2h78</code>"
      ],
      "text/plain": [
       "<IPython.core.display.HTML object>"
      ]
     },
     "metadata": {},
     "output_type": "display_data"
    },
    {
     "data": {
      "text/html": [
       "Syncing run <strong><a href='https://wandb.ai/ewiehe-osna/animal-posture-classification/runs/0uwn2h78' target=\"_blank\">prime-voice-1200</a></strong> to <a href='https://wandb.ai/ewiehe-osna/animal-posture-classification' target=\"_blank\">Weights & Biases</a> (<a href='https://wandb.me/developer-guide' target=\"_blank\">docs</a>)<br>"
      ],
      "text/plain": [
       "<IPython.core.display.HTML object>"
      ]
     },
     "metadata": {},
     "output_type": "display_data"
    },
    {
     "data": {
      "text/html": [
       " View project at <a href='https://wandb.ai/ewiehe-osna/animal-posture-classification' target=\"_blank\">https://wandb.ai/ewiehe-osna/animal-posture-classification</a>"
      ],
      "text/plain": [
       "<IPython.core.display.HTML object>"
      ]
     },
     "metadata": {},
     "output_type": "display_data"
    },
    {
     "data": {
      "text/html": [
       " View run at <a href='https://wandb.ai/ewiehe-osna/animal-posture-classification/runs/0uwn2h78' target=\"_blank\">https://wandb.ai/ewiehe-osna/animal-posture-classification/runs/0uwn2h78</a>"
      ],
      "text/plain": [
       "<IPython.core.display.HTML object>"
      ]
     },
     "metadata": {},
     "output_type": "display_data"
    },
    {
     "name": "stderr",
     "output_type": "stream",
     "text": [
      "\n",
      "\n",
      "\u001b[A\u001b[A\n",
      "\n",
      "\u001b[A\u001b[A\n",
      "\n",
      "\u001b[A\u001b[A\n",
      "\n",
      "\u001b[A\u001b[A\n",
      "\n",
      "\u001b[A\u001b[A\n",
      "\n",
      "\u001b[A\u001b[A\n",
      "\n",
      "\u001b[A\u001b[A\n",
      "\n",
      "\u001b[A\u001b[A\n",
      "\n",
      "\u001b[A\u001b[A\n",
      "\n",
      "\u001b[A\u001b[A\n",
      "\n",
      "\u001b[A\u001b[A\n",
      "\n",
      "\u001b[A\u001b[A"
     ]
    },
    {
     "name": "stdout",
     "output_type": "stream",
     "text": [
      "Early stopping triggered. Loading best model.\n"
     ]
    },
    {
     "name": "stderr",
     "output_type": "stream",
     "text": [
      "Epochs:  37%|███▋      | 11/30 [08:01<13:52, 43.81s/it]"
     ]
    },
    {
     "name": "stdout",
     "output_type": "stream",
     "text": [
      "Early stopping triggered at epoch 12. Stopping training.\n"
     ]
    },
    {
     "name": "stderr",
     "output_type": "stream",
     "text": [
      "\n"
     ]
    },
    {
     "data": {
      "text/html": [],
      "text/plain": [
       "<IPython.core.display.HTML object>"
      ]
     },
     "metadata": {},
     "output_type": "display_data"
    },
    {
     "data": {
      "text/html": [
       "<br>    <style><br>        .wandb-row {<br>            display: flex;<br>            flex-direction: row;<br>            flex-wrap: wrap;<br>            justify-content: flex-start;<br>            width: 100%;<br>        }<br>        .wandb-col {<br>            display: flex;<br>            flex-direction: column;<br>            flex-basis: 100%;<br>            flex: 1;<br>            padding: 10px;<br>        }<br>    </style><br><div class=\"wandb-row\"><div class=\"wandb-col\"><h3>Run history:</h3><br/><table class=\"wandb\"><tr><td>actual_epochs</td><td>▁▂▂▃▄▄▅▅▆▇▇█</td></tr><tr><td>epoch</td><td>▁▂▂▃▄▄▅▅▆▇▇█</td></tr><tr><td>f1_score</td><td>▁▁▁█▁▁▂▄█▃▅▅</td></tr><tr><td>precision</td><td>▁▁▁▆▁▁▄▅▇▅▆█</td></tr><tr><td>recall</td><td>▁▁▁█▁▁▂▃▇▃▅▄</td></tr><tr><td>train_loss</td><td>███▇█▆▅▄▃▄▁▂</td></tr><tr><td>val_accuracy</td><td>▁▁▁█▁▁▂▃▇▃▅▄</td></tr><tr><td>val_loss</td><td>▃▅▄▁▄▇▄▁▂▂▁█</td></tr></table><br/></div><div class=\"wandb-col\"><h3>Run summary:</h3><br/><table class=\"wandb\"><tr><td>actual_epochs</td><td>12</td></tr><tr><td>epoch</td><td>12</td></tr><tr><td>f1_score</td><td>0.2783</td></tr><tr><td>precision</td><td>0.745</td></tr><tr><td>recall</td><td>0.26437</td></tr><tr><td>train_loss</td><td>1.02179</td></tr><tr><td>val_accuracy</td><td>0.26437</td></tr><tr><td>val_loss</td><td>1.66681</td></tr></table><br/></div></div>"
      ],
      "text/plain": [
       "<IPython.core.display.HTML object>"
      ]
     },
     "metadata": {},
     "output_type": "display_data"
    },
    {
     "data": {
      "text/html": [
       " View run <strong style=\"color:#cdcd00\">prime-voice-1200</strong> at: <a href='https://wandb.ai/ewiehe-osna/animal-posture-classification/runs/0uwn2h78' target=\"_blank\">https://wandb.ai/ewiehe-osna/animal-posture-classification/runs/0uwn2h78</a><br> View project at: <a href='https://wandb.ai/ewiehe-osna/animal-posture-classification' target=\"_blank\">https://wandb.ai/ewiehe-osna/animal-posture-classification</a><br>Synced 5 W&B file(s), 13 media file(s), 0 artifact file(s) and 0 other file(s)"
      ],
      "text/plain": [
       "<IPython.core.display.HTML object>"
      ]
     },
     "metadata": {},
     "output_type": "display_data"
    },
    {
     "data": {
      "text/html": [
       "Find logs at: <code>.\\wandb\\run-20250401_150616-0uwn2h78\\logs</code>"
      ],
      "text/plain": [
       "<IPython.core.display.HTML object>"
      ]
     },
     "metadata": {},
     "output_type": "display_data"
    },
    {
     "name": "stderr",
     "output_type": "stream",
     "text": [
      "\n",
      "\u001b[A"
     ]
    },
    {
     "data": {
      "text/html": [
       "Tracking run with wandb version 0.19.7"
      ],
      "text/plain": [
       "<IPython.core.display.HTML object>"
      ]
     },
     "metadata": {},
     "output_type": "display_data"
    },
    {
     "data": {
      "text/html": [
       "Run data is saved locally in <code>c:\\Users\\OMEN\\Documents\\BA_Code\\notebooks\\wandb\\run-20250401_151422-vz2298c9</code>"
      ],
      "text/plain": [
       "<IPython.core.display.HTML object>"
      ]
     },
     "metadata": {},
     "output_type": "display_data"
    },
    {
     "data": {
      "text/html": [
       "Syncing run <strong><a href='https://wandb.ai/ewiehe-osna/animal-posture-classification/runs/vz2298c9' target=\"_blank\">super-dust-1201</a></strong> to <a href='https://wandb.ai/ewiehe-osna/animal-posture-classification' target=\"_blank\">Weights & Biases</a> (<a href='https://wandb.me/developer-guide' target=\"_blank\">docs</a>)<br>"
      ],
      "text/plain": [
       "<IPython.core.display.HTML object>"
      ]
     },
     "metadata": {},
     "output_type": "display_data"
    },
    {
     "data": {
      "text/html": [
       " View project at <a href='https://wandb.ai/ewiehe-osna/animal-posture-classification' target=\"_blank\">https://wandb.ai/ewiehe-osna/animal-posture-classification</a>"
      ],
      "text/plain": [
       "<IPython.core.display.HTML object>"
      ]
     },
     "metadata": {},
     "output_type": "display_data"
    },
    {
     "data": {
      "text/html": [
       " View run at <a href='https://wandb.ai/ewiehe-osna/animal-posture-classification/runs/vz2298c9' target=\"_blank\">https://wandb.ai/ewiehe-osna/animal-posture-classification/runs/vz2298c9</a>"
      ],
      "text/plain": [
       "<IPython.core.display.HTML object>"
      ]
     },
     "metadata": {},
     "output_type": "display_data"
    },
    {
     "name": "stderr",
     "output_type": "stream",
     "text": [
      "\n",
      "\n",
      "\u001b[A\u001b[A\n",
      "\n",
      "\u001b[A\u001b[A\n",
      "\n",
      "\u001b[A\u001b[A\n",
      "\n",
      "\u001b[A\u001b[A\n",
      "\n",
      "\u001b[A\u001b[A\n",
      "\n",
      "\u001b[A\u001b[A\n",
      "\n",
      "\u001b[A\u001b[A"
     ]
    },
    {
     "name": "stdout",
     "output_type": "stream",
     "text": [
      "Early stopping triggered. Loading best model.\n"
     ]
    },
    {
     "name": "stderr",
     "output_type": "stream",
     "text": [
      "Epochs:  20%|██        | 6/30 [04:30<18:02, 45.10s/it]"
     ]
    },
    {
     "name": "stdout",
     "output_type": "stream",
     "text": [
      "Early stopping triggered at epoch 7. Stopping training.\n"
     ]
    },
    {
     "name": "stderr",
     "output_type": "stream",
     "text": [
      "\n"
     ]
    },
    {
     "data": {
      "text/html": [],
      "text/plain": [
       "<IPython.core.display.HTML object>"
      ]
     },
     "metadata": {},
     "output_type": "display_data"
    },
    {
     "data": {
      "text/html": [
       "<br>    <style><br>        .wandb-row {<br>            display: flex;<br>            flex-direction: row;<br>            flex-wrap: wrap;<br>            justify-content: flex-start;<br>            width: 100%;<br>        }<br>        .wandb-col {<br>            display: flex;<br>            flex-direction: column;<br>            flex-basis: 100%;<br>            flex: 1;<br>            padding: 10px;<br>        }<br>    </style><br><div class=\"wandb-row\"><div class=\"wandb-col\"><h3>Run history:</h3><br/><table class=\"wandb\"><tr><td>actual_epochs</td><td>▁▂▃▅▆▇█</td></tr><tr><td>epoch</td><td>▁▂▃▅▆▇█</td></tr><tr><td>f1_score</td><td>▃▄█▁▁▁▁</td></tr><tr><td>precision</td><td>█▆█▁▁▁▁</td></tr><tr><td>recall</td><td>▃▃█▂▁▁▁</td></tr><tr><td>train_loss</td><td>▆▆█▃▃▅▁</td></tr><tr><td>val_accuracy</td><td>▃▃█▂▁▁▁</td></tr><tr><td>val_loss</td><td>▃▄▁█▅▅█</td></tr></table><br/></div><div class=\"wandb-col\"><h3>Run summary:</h3><br/><table class=\"wandb\"><tr><td>actual_epochs</td><td>7</td></tr><tr><td>epoch</td><td>7</td></tr><tr><td>f1_score</td><td>0.04541</td></tr><tr><td>precision</td><td>0.02804</td></tr><tr><td>recall</td><td>0.12644</td></tr><tr><td>train_loss</td><td>1.17916</td></tr><tr><td>val_accuracy</td><td>0.12644</td></tr><tr><td>val_loss</td><td>1.49565</td></tr></table><br/></div></div>"
      ],
      "text/plain": [
       "<IPython.core.display.HTML object>"
      ]
     },
     "metadata": {},
     "output_type": "display_data"
    },
    {
     "data": {
      "text/html": [
       " View run <strong style=\"color:#cdcd00\">super-dust-1201</strong> at: <a href='https://wandb.ai/ewiehe-osna/animal-posture-classification/runs/vz2298c9' target=\"_blank\">https://wandb.ai/ewiehe-osna/animal-posture-classification/runs/vz2298c9</a><br> View project at: <a href='https://wandb.ai/ewiehe-osna/animal-posture-classification' target=\"_blank\">https://wandb.ai/ewiehe-osna/animal-posture-classification</a><br>Synced 5 W&B file(s), 8 media file(s), 0 artifact file(s) and 0 other file(s)"
      ],
      "text/plain": [
       "<IPython.core.display.HTML object>"
      ]
     },
     "metadata": {},
     "output_type": "display_data"
    },
    {
     "data": {
      "text/html": [
       "Find logs at: <code>.\\wandb\\run-20250401_151422-vz2298c9\\logs</code>"
      ],
      "text/plain": [
       "<IPython.core.display.HTML object>"
      ]
     },
     "metadata": {},
     "output_type": "display_data"
    },
    {
     "name": "stderr",
     "output_type": "stream",
     "text": [
      "\n",
      "\u001b[A"
     ]
    },
    {
     "data": {
      "text/html": [
       "Tracking run with wandb version 0.19.7"
      ],
      "text/plain": [
       "<IPython.core.display.HTML object>"
      ]
     },
     "metadata": {},
     "output_type": "display_data"
    },
    {
     "data": {
      "text/html": [
       "Run data is saved locally in <code>c:\\Users\\OMEN\\Documents\\BA_Code\\notebooks\\wandb\\run-20250401_151857-27d7gg83</code>"
      ],
      "text/plain": [
       "<IPython.core.display.HTML object>"
      ]
     },
     "metadata": {},
     "output_type": "display_data"
    },
    {
     "data": {
      "text/html": [
       "Syncing run <strong><a href='https://wandb.ai/ewiehe-osna/animal-posture-classification/runs/27d7gg83' target=\"_blank\">silvery-frost-1202</a></strong> to <a href='https://wandb.ai/ewiehe-osna/animal-posture-classification' target=\"_blank\">Weights & Biases</a> (<a href='https://wandb.me/developer-guide' target=\"_blank\">docs</a>)<br>"
      ],
      "text/plain": [
       "<IPython.core.display.HTML object>"
      ]
     },
     "metadata": {},
     "output_type": "display_data"
    },
    {
     "data": {
      "text/html": [
       " View project at <a href='https://wandb.ai/ewiehe-osna/animal-posture-classification' target=\"_blank\">https://wandb.ai/ewiehe-osna/animal-posture-classification</a>"
      ],
      "text/plain": [
       "<IPython.core.display.HTML object>"
      ]
     },
     "metadata": {},
     "output_type": "display_data"
    },
    {
     "data": {
      "text/html": [
       " View run at <a href='https://wandb.ai/ewiehe-osna/animal-posture-classification/runs/27d7gg83' target=\"_blank\">https://wandb.ai/ewiehe-osna/animal-posture-classification/runs/27d7gg83</a>"
      ],
      "text/plain": [
       "<IPython.core.display.HTML object>"
      ]
     },
     "metadata": {},
     "output_type": "display_data"
    },
    {
     "name": "stderr",
     "output_type": "stream",
     "text": [
      "\n",
      "\n",
      "\u001b[A\u001b[A\n",
      "\n",
      "\u001b[A\u001b[A\n",
      "\n",
      "\u001b[A\u001b[A\n",
      "\n",
      "\u001b[A\u001b[A\n",
      "\n",
      "\u001b[A\u001b[A\n",
      "\n",
      "\u001b[A\u001b[A\n",
      "\n",
      "\u001b[A\u001b[A"
     ]
    }
   ],
   "source": [
    "for pretrained in tqdm(pretrained_options, desc=\"Pretrained Options\"):\n",
    "    for lr in tqdm(learning_rates, desc=\"Learning Rates\"):\n",
    "        for batch_size in tqdm(batch_sizes, desc=\"Batch Sizes\"):\n",
    "            # Initialize W&B run\n",
    "            wandb.init(\n",
    "                project=\"animal-posture-classification\",\n",
    "                config={\n",
    "                    \"model\": \"ViT\",\n",
    "                    \"pretrained\": pretrained,\n",
    "                    \"learning_rate\": lr,\n",
    "                    \"batch_size\": batch_size,\n",
    "                    \"epochs\": epochs,\n",
    "                    \"data_augmentation\": augmentation,\n",
    "                    \"stable_diffusion\": use_stable_diffusion,\n",
    "                }\n",
    "            )\n",
    "            train_loader, val_loader = get_dataloaders(data_dir,batch_size= batch_size, augment=False)\n",
    "\n",
    "            # Initialize model\n",
    "            model = build_vit_model(pretrained=pretrained, num_classes=len(class_names)).to(device)\n",
    "            \n",
    "            # Define Loss Function & Optimizer\n",
    "            criterion = nn.CrossEntropyLoss()\n",
    "            optimizer = optim.Adam(model.parameters(), lr=lr) \n",
    "\n",
    "            # Early Stopping Reset for Each Run\n",
    "            early_stopping = EarlyStopping(patience=4)\n",
    "\n",
    "            try:\n",
    "                for epoch in tqdm(range(epochs), desc=\"Epochs\"):\n",
    "                    start_time = time.time()\n",
    "                    model.train()\n",
    "                    train_loss = 0.0\n",
    "\n",
    "                    for images, labels in train_loader:\n",
    "                        images, labels = images.to(device), labels.to(device)\n",
    "                        optimizer.zero_grad()\n",
    "                        outputs = model(images)\n",
    "                        loss = criterion(outputs, labels)\n",
    "\n",
    "                        loss.backward()\n",
    "                        torch.nn.utils.clip_grad_norm_(model.parameters(), max_norm=1.0) \n",
    "                        optimizer.step()\n",
    "\n",
    "                        train_loss += loss.item()\n",
    "\n",
    "                    train_loss /= len(train_loader)\n",
    "\n",
    "                    # Validation\n",
    "                    model.eval()\n",
    "                    val_loss = 0.0\n",
    "                    all_preds, all_labels = [], []\n",
    "\n",
    "                    with torch.no_grad():\n",
    "                        for images, labels in val_loader:\n",
    "                            images, labels = images.to(device), labels.to(device)\n",
    "                            outputs = model(images)\n",
    "                            loss = criterion(outputs, labels)\n",
    "                            val_loss += loss.item()\n",
    "\n",
    "                            preds = torch.argmax(outputs, dim=1)\n",
    "                            all_preds.extend(preds.cpu().numpy().tolist())\n",
    "                            all_labels.extend(labels.cpu().numpy().tolist())\n",
    "\n",
    "                    val_loss /= len(val_loader)\n",
    "                    accuracy = accuracy_score(all_labels, all_preds)\n",
    "                    report = classification_report(all_labels, all_preds, target_names=class_names, output_dict=True, zero_division=0)\n",
    "\n",
    "                    # Create target directory if it doesn't exist\n",
    "                    conf_matrix_dir = Path(\"results/confusion_matrices\")\n",
    "                    conf_matrix_dir.mkdir(parents=True, exist_ok=True)\n",
    "\n",
    "                    # Save and Log Confusion Matrix\n",
    "                    cm = confusion_matrix(all_labels, all_preds)\n",
    "                    plt.figure(figsize=(6, 6))\n",
    "                    sns.heatmap(cm, annot=True, fmt=\"d\", cmap=\"Blues\", xticklabels=class_names, yticklabels=class_names)\n",
    "                    plt.xlabel(\"Predicted\")\n",
    "                    plt.ylabel(\"True\")\n",
    "\n",
    "                    # Save to results/confusion_matrices/\n",
    "                    cm_path = Path(\"results/confusion_matrices\") / f\"conf_matrix_epoch{epoch+1}.png\"\n",
    "\n",
    "                    plt.savefig(cm_path)\n",
    "                    plt.close()\n",
    "\n",
    "                    # Always log confusion matrix\n",
    "                    wandb.log({\n",
    "                        \"epoch\": epoch + 1,\n",
    "                        \"train_loss\": train_loss,\n",
    "                        \"val_loss\": val_loss,\n",
    "                        \"val_accuracy\": accuracy,\n",
    "                        \"conf_matrix\": wandb.Image(str(cm_path)),  \n",
    "                        \"precision\": report[\"weighted avg\"][\"precision\"],\n",
    "                        \"recall\": report[\"weighted avg\"][\"recall\"],\n",
    "                        \"f1_score\": report[\"weighted avg\"][\"f1-score\"],\n",
    "                        \"actual_epochs\": epoch + 1  \n",
    "                    })\n",
    "\n",
    "                    # **Save the Best Confusion Matrix**\n",
    "                    if val_loss < best_val_loss:\n",
    "                        best_val_loss = val_loss\n",
    "                        best_conf_matrix_path = cm_path  \n",
    "\n",
    "                    # **Check Early Stopping Condition**\n",
    "                    if early_stopping(val_loss, model):  \n",
    "                        print(f\"Early stopping triggered at epoch {epoch + 1}. Stopping training.\")\n",
    "                        break\n",
    "\n",
    "\n",
    "            except Exception as e:\n",
    "                print(f\"Error in training: {e}\")\n",
    "            finally:\n",
    "                # **Log Best Confusion Matrix Separately (Final Run)**\n",
    "                if best_conf_matrix_path:\n",
    "                    wandb.log({\"Confusion Matrix\": wandb.Image(str(best_conf_matrix_path))}) \n",
    "                \n",
    "                # Save the model\n",
    "                wandb.finish()  \n"
   ]
  }
 ],
 "metadata": {
  "kernelspec": {
   "display_name": "bachelor_thesis",
   "language": "python",
   "name": "python3"
  },
  "language_info": {
   "codemirror_mode": {
    "name": "ipython",
    "version": 3
   },
   "file_extension": ".py",
   "mimetype": "text/x-python",
   "name": "python",
   "nbconvert_exporter": "python",
   "pygments_lexer": "ipython3",
   "version": "3.10.14"
  }
 },
 "nbformat": 4,
 "nbformat_minor": 2
}
