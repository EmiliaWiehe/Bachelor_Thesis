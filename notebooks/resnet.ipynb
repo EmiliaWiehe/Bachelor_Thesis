{
 "cells": [
  {
   "cell_type": "markdown",
   "metadata": {},
   "source": [
    "## ResNet50"
   ]
  },
  {
   "cell_type": "markdown",
   "metadata": {},
   "source": [
    "### Load Libraries"
   ]
  },
  {
   "cell_type": "code",
   "execution_count": 6,
   "metadata": {},
   "outputs": [
    {
     "data": {
      "text/plain": [
       "True"
      ]
     },
     "execution_count": 6,
     "metadata": {},
     "output_type": "execute_result"
    }
   ],
   "source": [
    "import wandb\n",
    "import torch\n",
    "import torch.nn as nn\n",
    "import torch.optim as optim\n",
    "from torch.utils.data import DataLoader, WeightedRandomSampler\n",
    "from collections import Counter\n",
    "import pandas as pd\n",
    "import numpy as np\n",
    "import tqdm\n",
    "import time\n",
    "import os\n",
    "import sys\n",
    "from pathlib import Path\n",
    "from tqdm import tqdm\n",
    "from sklearn.metrics import accuracy_score, classification_report, confusion_matrix\n",
    "import seaborn as sns\n",
    "import matplotlib.pyplot as plt\n",
    "\n",
    "import sys\n",
    "from pathlib import Path\n",
    "\n",
    "project_root = Path().resolve().parent\n",
    "if str(project_root) not in sys.path:\n",
    "    sys.path.append(str(project_root))\n",
    "\n",
    "from src.data_loader import get_dataloaders\n",
    "from src.log import log_experiment_results, save_loss_curve, save_confusion_matrix\n",
    "from src.res_model import build_resnet_model\n",
    "from src.early_stopping import EarlyStopping\n",
    "\n",
    "# Secure W&B Login\n",
    "wandb.login()"
   ]
  },
  {
   "cell_type": "markdown",
   "metadata": {},
   "source": [
    "### Determine training configurations"
   ]
  },
  {
   "cell_type": "code",
   "execution_count": null,
   "metadata": {},
   "outputs": [],
   "source": [
    "# Experiment parameter options\n",
    "pretrained_options = [True, False]\n",
    "learning_rates = [0.001, 0.0001, 0.00001]\n",
    "batch_sizes = [ 8, 16, 32]\n",
    "epochs = 30\n",
    "augementation = False\n",
    "use_stable_diffusion = False\n",
    "\n"
   ]
  },
  {
   "cell_type": "markdown",
   "metadata": {},
   "source": [
    "### Load data set - remember to change the directroy path"
   ]
  },
  {
   "cell_type": "code",
   "execution_count": 8,
   "metadata": {},
   "outputs": [],
   "source": [
    "if use_stable_diffusion:\n",
    "    data_dir = r\"C:\\Users\\OMEN\\Documents\\BA_Code\\stable_diffusion_data\"\n",
    "else:\n",
    "    data_dir = r\"C:\\Users\\OMEN\\Documents\\BA_Code\\data\"\n",
    "# Load dataset (train & validation loaders)\n",
    "train_loader, val_loader = get_dataloaders(data_dir, augment=False)\n",
    "\n",
    "# Set device\n",
    "device = torch.device(\"cuda\" if torch.cuda.is_available() else \"cpu\")\n"
   ]
  },
  {
   "cell_type": "code",
   "execution_count": 9,
   "metadata": {},
   "outputs": [],
   "source": [
    "# Define class names\n",
    "class_names = [\"lie\", \"run\", \"sit\", \"walk_stand\"]\n",
    "# Define class mapping (make sure it matches your labels)\n",
    "class_map = {\"lie\": 0, \"run\": 1, \"sit\": 2, \"walk_stand\": 3}\n",
    "\n",
    "predictions_data = []  # Collect predictions and true labels\n",
    "\n",
    "# Initialize Early Stopping\n",
    "early_stopping = EarlyStopping(patience=4)\n",
    "best_val_loss = float(\"inf\")\n",
    "best_conf_matrix_path = None "
   ]
  },
  {
   "cell_type": "markdown",
   "metadata": {},
   "source": [
    "### Training Loop, saved on weights and biases"
   ]
  },
  {
   "cell_type": "code",
   "execution_count": null,
   "metadata": {},
   "outputs": [
    {
     "name": "stderr",
     "output_type": "stream",
     "text": [
      "Pretrained Options:   0%|          | 0/2 [00:00<?, ?it/s]\n",
      "\u001b[A"
     ]
    },
    {
     "data": {
      "text/html": [
       "Tracking run with wandb version 0.19.7"
      ],
      "text/plain": [
       "<IPython.core.display.HTML object>"
      ]
     },
     "metadata": {},
     "output_type": "display_data"
    },
    {
     "data": {
      "text/html": [
       "Run data is saved locally in <code>c:\\Users\\OMEN\\Documents\\BA_Code\\notebooks\\wandb\\run-20250401_144147-78kzlyur</code>"
      ],
      "text/plain": [
       "<IPython.core.display.HTML object>"
      ]
     },
     "metadata": {},
     "output_type": "display_data"
    },
    {
     "data": {
      "text/html": [
       "Syncing run <strong><a href='https://wandb.ai/ewiehe-osna/animal-posture-classification/runs/78kzlyur' target=\"_blank\">eager-lion-1175</a></strong> to <a href='https://wandb.ai/ewiehe-osna/animal-posture-classification' target=\"_blank\">Weights & Biases</a> (<a href='https://wandb.me/developer-guide' target=\"_blank\">docs</a>)<br>"
      ],
      "text/plain": [
       "<IPython.core.display.HTML object>"
      ]
     },
     "metadata": {},
     "output_type": "display_data"
    },
    {
     "data": {
      "text/html": [
       " View project at <a href='https://wandb.ai/ewiehe-osna/animal-posture-classification' target=\"_blank\">https://wandb.ai/ewiehe-osna/animal-posture-classification</a>"
      ],
      "text/plain": [
       "<IPython.core.display.HTML object>"
      ]
     },
     "metadata": {},
     "output_type": "display_data"
    },
    {
     "data": {
      "text/html": [
       " View run at <a href='https://wandb.ai/ewiehe-osna/animal-posture-classification/runs/78kzlyur' target=\"_blank\">https://wandb.ai/ewiehe-osna/animal-posture-classification/runs/78kzlyur</a>"
      ],
      "text/plain": [
       "<IPython.core.display.HTML object>"
      ]
     },
     "metadata": {},
     "output_type": "display_data"
    },
    {
     "name": "stderr",
     "output_type": "stream",
     "text": [
      "\n",
      "\n",
      "Epochs:   0%|          | 0/30 [00:00<?, ?it/s]"
     ]
    },
    {
     "name": "stdout",
     "output_type": "stream",
     "text": [
      "Error in training: Expected more than 1 value per channel when training, got input size torch.Size([1, 128])\n"
     ]
    },
    {
     "name": "stderr",
     "output_type": "stream",
     "text": [
      "\n"
     ]
    },
    {
     "data": {
      "text/html": [],
      "text/plain": [
       "<IPython.core.display.HTML object>"
      ]
     },
     "metadata": {},
     "output_type": "display_data"
    },
    {
     "data": {
      "text/html": [
       " View run <strong style=\"color:#cdcd00\">eager-lion-1175</strong> at: <a href='https://wandb.ai/ewiehe-osna/animal-posture-classification/runs/78kzlyur' target=\"_blank\">https://wandb.ai/ewiehe-osna/animal-posture-classification/runs/78kzlyur</a><br> View project at: <a href='https://wandb.ai/ewiehe-osna/animal-posture-classification' target=\"_blank\">https://wandb.ai/ewiehe-osna/animal-posture-classification</a><br>Synced 5 W&B file(s), 0 media file(s), 0 artifact file(s) and 0 other file(s)"
      ],
      "text/plain": [
       "<IPython.core.display.HTML object>"
      ]
     },
     "metadata": {},
     "output_type": "display_data"
    },
    {
     "data": {
      "text/html": [
       "Find logs at: <code>.\\wandb\\run-20250401_144147-78kzlyur\\logs</code>"
      ],
      "text/plain": [
       "<IPython.core.display.HTML object>"
      ]
     },
     "metadata": {},
     "output_type": "display_data"
    },
    {
     "name": "stderr",
     "output_type": "stream",
     "text": [
      "\n",
      "\u001b[A"
     ]
    },
    {
     "data": {
      "text/html": [
       "Tracking run with wandb version 0.19.7"
      ],
      "text/plain": [
       "<IPython.core.display.HTML object>"
      ]
     },
     "metadata": {},
     "output_type": "display_data"
    },
    {
     "data": {
      "text/html": [
       "Run data is saved locally in <code>c:\\Users\\OMEN\\Documents\\BA_Code\\notebooks\\wandb\\run-20250401_144151-xv4pcif5</code>"
      ],
      "text/plain": [
       "<IPython.core.display.HTML object>"
      ]
     },
     "metadata": {},
     "output_type": "display_data"
    },
    {
     "data": {
      "text/html": [
       "Syncing run <strong><a href='https://wandb.ai/ewiehe-osna/animal-posture-classification/runs/xv4pcif5' target=\"_blank\">bright-snow-1176</a></strong> to <a href='https://wandb.ai/ewiehe-osna/animal-posture-classification' target=\"_blank\">Weights & Biases</a> (<a href='https://wandb.me/developer-guide' target=\"_blank\">docs</a>)<br>"
      ],
      "text/plain": [
       "<IPython.core.display.HTML object>"
      ]
     },
     "metadata": {},
     "output_type": "display_data"
    },
    {
     "data": {
      "text/html": [
       " View project at <a href='https://wandb.ai/ewiehe-osna/animal-posture-classification' target=\"_blank\">https://wandb.ai/ewiehe-osna/animal-posture-classification</a>"
      ],
      "text/plain": [
       "<IPython.core.display.HTML object>"
      ]
     },
     "metadata": {},
     "output_type": "display_data"
    },
    {
     "data": {
      "text/html": [
       " View run at <a href='https://wandb.ai/ewiehe-osna/animal-posture-classification/runs/xv4pcif5' target=\"_blank\">https://wandb.ai/ewiehe-osna/animal-posture-classification/runs/xv4pcif5</a>"
      ],
      "text/plain": [
       "<IPython.core.display.HTML object>"
      ]
     },
     "metadata": {},
     "output_type": "display_data"
    },
    {
     "name": "stderr",
     "output_type": "stream",
     "text": [
      "\n",
      "\n",
      "Epochs:   0%|          | 0/30 [00:11<?, ?it/s]"
     ]
    },
    {
     "name": "stdout",
     "output_type": "stream",
     "text": [
      "Error in training: 'WindowsPath' object has no attribute 'ndim'\n"
     ]
    },
    {
     "name": "stderr",
     "output_type": "stream",
     "text": [
      "\n"
     ]
    },
    {
     "data": {
      "text/html": [],
      "text/plain": [
       "<IPython.core.display.HTML object>"
      ]
     },
     "metadata": {},
     "output_type": "display_data"
    },
    {
     "data": {
      "text/html": [
       " View run <strong style=\"color:#cdcd00\">bright-snow-1176</strong> at: <a href='https://wandb.ai/ewiehe-osna/animal-posture-classification/runs/xv4pcif5' target=\"_blank\">https://wandb.ai/ewiehe-osna/animal-posture-classification/runs/xv4pcif5</a><br> View project at: <a href='https://wandb.ai/ewiehe-osna/animal-posture-classification' target=\"_blank\">https://wandb.ai/ewiehe-osna/animal-posture-classification</a><br>Synced 5 W&B file(s), 0 media file(s), 0 artifact file(s) and 0 other file(s)"
      ],
      "text/plain": [
       "<IPython.core.display.HTML object>"
      ]
     },
     "metadata": {},
     "output_type": "display_data"
    },
    {
     "data": {
      "text/html": [
       "Find logs at: <code>.\\wandb\\run-20250401_144151-xv4pcif5\\logs</code>"
      ],
      "text/plain": [
       "<IPython.core.display.HTML object>"
      ]
     },
     "metadata": {},
     "output_type": "display_data"
    },
    {
     "name": "stderr",
     "output_type": "stream",
     "text": [
      "\n",
      "\u001b[A"
     ]
    },
    {
     "data": {
      "text/html": [
       "Tracking run with wandb version 0.19.7"
      ],
      "text/plain": [
       "<IPython.core.display.HTML object>"
      ]
     },
     "metadata": {},
     "output_type": "display_data"
    },
    {
     "data": {
      "text/html": [
       "Run data is saved locally in <code>c:\\Users\\OMEN\\Documents\\BA_Code\\notebooks\\wandb\\run-20250401_144206-4ge0tjkb</code>"
      ],
      "text/plain": [
       "<IPython.core.display.HTML object>"
      ]
     },
     "metadata": {},
     "output_type": "display_data"
    },
    {
     "data": {
      "text/html": [
       "Syncing run <strong><a href='https://wandb.ai/ewiehe-osna/animal-posture-classification/runs/4ge0tjkb' target=\"_blank\">different-firefly-1177</a></strong> to <a href='https://wandb.ai/ewiehe-osna/animal-posture-classification' target=\"_blank\">Weights & Biases</a> (<a href='https://wandb.me/developer-guide' target=\"_blank\">docs</a>)<br>"
      ],
      "text/plain": [
       "<IPython.core.display.HTML object>"
      ]
     },
     "metadata": {},
     "output_type": "display_data"
    },
    {
     "data": {
      "text/html": [
       " View project at <a href='https://wandb.ai/ewiehe-osna/animal-posture-classification' target=\"_blank\">https://wandb.ai/ewiehe-osna/animal-posture-classification</a>"
      ],
      "text/plain": [
       "<IPython.core.display.HTML object>"
      ]
     },
     "metadata": {},
     "output_type": "display_data"
    },
    {
     "data": {
      "text/html": [
       " View run at <a href='https://wandb.ai/ewiehe-osna/animal-posture-classification/runs/4ge0tjkb' target=\"_blank\">https://wandb.ai/ewiehe-osna/animal-posture-classification/runs/4ge0tjkb</a>"
      ],
      "text/plain": [
       "<IPython.core.display.HTML object>"
      ]
     },
     "metadata": {},
     "output_type": "display_data"
    },
    {
     "name": "stderr",
     "output_type": "stream",
     "text": [
      "\n",
      "\n",
      "Epochs:   0%|          | 0/30 [00:10<?, ?it/s]"
     ]
    },
    {
     "name": "stdout",
     "output_type": "stream",
     "text": [
      "Error in training: 'WindowsPath' object has no attribute 'ndim'\n"
     ]
    },
    {
     "name": "stderr",
     "output_type": "stream",
     "text": [
      "\n"
     ]
    },
    {
     "data": {
      "text/html": [],
      "text/plain": [
       "<IPython.core.display.HTML object>"
      ]
     },
     "metadata": {},
     "output_type": "display_data"
    },
    {
     "data": {
      "text/html": [
       " View run <strong style=\"color:#cdcd00\">different-firefly-1177</strong> at: <a href='https://wandb.ai/ewiehe-osna/animal-posture-classification/runs/4ge0tjkb' target=\"_blank\">https://wandb.ai/ewiehe-osna/animal-posture-classification/runs/4ge0tjkb</a><br> View project at: <a href='https://wandb.ai/ewiehe-osna/animal-posture-classification' target=\"_blank\">https://wandb.ai/ewiehe-osna/animal-posture-classification</a><br>Synced 5 W&B file(s), 0 media file(s), 0 artifact file(s) and 0 other file(s)"
      ],
      "text/plain": [
       "<IPython.core.display.HTML object>"
      ]
     },
     "metadata": {},
     "output_type": "display_data"
    },
    {
     "data": {
      "text/html": [
       "Find logs at: <code>.\\wandb\\run-20250401_144206-4ge0tjkb\\logs</code>"
      ],
      "text/plain": [
       "<IPython.core.display.HTML object>"
      ]
     },
     "metadata": {},
     "output_type": "display_data"
    },
    {
     "name": "stderr",
     "output_type": "stream",
     "text": [
      "\n",
      "\u001b[A"
     ]
    },
    {
     "data": {
      "text/html": [
       "Tracking run with wandb version 0.19.7"
      ],
      "text/plain": [
       "<IPython.core.display.HTML object>"
      ]
     },
     "metadata": {},
     "output_type": "display_data"
    },
    {
     "data": {
      "text/html": [
       "Run data is saved locally in <code>c:\\Users\\OMEN\\Documents\\BA_Code\\notebooks\\wandb\\run-20250401_144219-c1808gql</code>"
      ],
      "text/plain": [
       "<IPython.core.display.HTML object>"
      ]
     },
     "metadata": {},
     "output_type": "display_data"
    },
    {
     "data": {
      "text/html": [
       "Syncing run <strong><a href='https://wandb.ai/ewiehe-osna/animal-posture-classification/runs/c1808gql' target=\"_blank\">trim-voice-1178</a></strong> to <a href='https://wandb.ai/ewiehe-osna/animal-posture-classification' target=\"_blank\">Weights & Biases</a> (<a href='https://wandb.me/developer-guide' target=\"_blank\">docs</a>)<br>"
      ],
      "text/plain": [
       "<IPython.core.display.HTML object>"
      ]
     },
     "metadata": {},
     "output_type": "display_data"
    },
    {
     "data": {
      "text/html": [
       " View project at <a href='https://wandb.ai/ewiehe-osna/animal-posture-classification' target=\"_blank\">https://wandb.ai/ewiehe-osna/animal-posture-classification</a>"
      ],
      "text/plain": [
       "<IPython.core.display.HTML object>"
      ]
     },
     "metadata": {},
     "output_type": "display_data"
    },
    {
     "data": {
      "text/html": [
       " View run at <a href='https://wandb.ai/ewiehe-osna/animal-posture-classification/runs/c1808gql' target=\"_blank\">https://wandb.ai/ewiehe-osna/animal-posture-classification/runs/c1808gql</a>"
      ],
      "text/plain": [
       "<IPython.core.display.HTML object>"
      ]
     },
     "metadata": {},
     "output_type": "display_data"
    },
    {
     "name": "stderr",
     "output_type": "stream",
     "text": [
      "\n",
      "\n",
      "Epochs:   0%|          | 0/30 [00:09<?, ?it/s]"
     ]
    },
    {
     "name": "stdout",
     "output_type": "stream",
     "text": [
      "Error in training: 'WindowsPath' object has no attribute 'ndim'\n"
     ]
    },
    {
     "name": "stderr",
     "output_type": "stream",
     "text": [
      "\n"
     ]
    },
    {
     "data": {
      "text/html": [],
      "text/plain": [
       "<IPython.core.display.HTML object>"
      ]
     },
     "metadata": {},
     "output_type": "display_data"
    },
    {
     "data": {
      "text/html": [
       " View run <strong style=\"color:#cdcd00\">trim-voice-1178</strong> at: <a href='https://wandb.ai/ewiehe-osna/animal-posture-classification/runs/c1808gql' target=\"_blank\">https://wandb.ai/ewiehe-osna/animal-posture-classification/runs/c1808gql</a><br> View project at: <a href='https://wandb.ai/ewiehe-osna/animal-posture-classification' target=\"_blank\">https://wandb.ai/ewiehe-osna/animal-posture-classification</a><br>Synced 5 W&B file(s), 0 media file(s), 0 artifact file(s) and 0 other file(s)"
      ],
      "text/plain": [
       "<IPython.core.display.HTML object>"
      ]
     },
     "metadata": {},
     "output_type": "display_data"
    },
    {
     "data": {
      "text/html": [
       "Find logs at: <code>.\\wandb\\run-20250401_144219-c1808gql\\logs</code>"
      ],
      "text/plain": [
       "<IPython.core.display.HTML object>"
      ]
     },
     "metadata": {},
     "output_type": "display_data"
    },
    {
     "name": "stderr",
     "output_type": "stream",
     "text": [
      "\n",
      "Batch Sizes: 100%|██████████| 4/4 [00:45<00:00, 11.47s/it]\n",
      "\n",
      "\u001b[A"
     ]
    },
    {
     "data": {
      "text/html": [
       "Tracking run with wandb version 0.19.7"
      ],
      "text/plain": [
       "<IPython.core.display.HTML object>"
      ]
     },
     "metadata": {},
     "output_type": "display_data"
    },
    {
     "data": {
      "text/html": [
       "Run data is saved locally in <code>c:\\Users\\OMEN\\Documents\\BA_Code\\notebooks\\wandb\\run-20250401_144232-kcdxhgb7</code>"
      ],
      "text/plain": [
       "<IPython.core.display.HTML object>"
      ]
     },
     "metadata": {},
     "output_type": "display_data"
    },
    {
     "data": {
      "text/html": [
       "Syncing run <strong><a href='https://wandb.ai/ewiehe-osna/animal-posture-classification/runs/kcdxhgb7' target=\"_blank\">lilac-hill-1179</a></strong> to <a href='https://wandb.ai/ewiehe-osna/animal-posture-classification' target=\"_blank\">Weights & Biases</a> (<a href='https://wandb.me/developer-guide' target=\"_blank\">docs</a>)<br>"
      ],
      "text/plain": [
       "<IPython.core.display.HTML object>"
      ]
     },
     "metadata": {},
     "output_type": "display_data"
    },
    {
     "data": {
      "text/html": [
       " View project at <a href='https://wandb.ai/ewiehe-osna/animal-posture-classification' target=\"_blank\">https://wandb.ai/ewiehe-osna/animal-posture-classification</a>"
      ],
      "text/plain": [
       "<IPython.core.display.HTML object>"
      ]
     },
     "metadata": {},
     "output_type": "display_data"
    },
    {
     "data": {
      "text/html": [
       " View run at <a href='https://wandb.ai/ewiehe-osna/animal-posture-classification/runs/kcdxhgb7' target=\"_blank\">https://wandb.ai/ewiehe-osna/animal-posture-classification/runs/kcdxhgb7</a>"
      ],
      "text/plain": [
       "<IPython.core.display.HTML object>"
      ]
     },
     "metadata": {},
     "output_type": "display_data"
    },
    {
     "name": "stderr",
     "output_type": "stream",
     "text": [
      "\n",
      "\n",
      "Epochs:   0%|          | 0/30 [00:00<?, ?it/s]"
     ]
    },
    {
     "name": "stdout",
     "output_type": "stream",
     "text": [
      "Error in training: Expected more than 1 value per channel when training, got input size torch.Size([1, 128])\n"
     ]
    },
    {
     "name": "stderr",
     "output_type": "stream",
     "text": [
      "\n"
     ]
    },
    {
     "data": {
      "text/html": [],
      "text/plain": [
       "<IPython.core.display.HTML object>"
      ]
     },
     "metadata": {},
     "output_type": "display_data"
    },
    {
     "data": {
      "text/html": [
       " View run <strong style=\"color:#cdcd00\">lilac-hill-1179</strong> at: <a href='https://wandb.ai/ewiehe-osna/animal-posture-classification/runs/kcdxhgb7' target=\"_blank\">https://wandb.ai/ewiehe-osna/animal-posture-classification/runs/kcdxhgb7</a><br> View project at: <a href='https://wandb.ai/ewiehe-osna/animal-posture-classification' target=\"_blank\">https://wandb.ai/ewiehe-osna/animal-posture-classification</a><br>Synced 5 W&B file(s), 0 media file(s), 0 artifact file(s) and 0 other file(s)"
      ],
      "text/plain": [
       "<IPython.core.display.HTML object>"
      ]
     },
     "metadata": {},
     "output_type": "display_data"
    },
    {
     "data": {
      "text/html": [
       "Find logs at: <code>.\\wandb\\run-20250401_144232-kcdxhgb7\\logs</code>"
      ],
      "text/plain": [
       "<IPython.core.display.HTML object>"
      ]
     },
     "metadata": {},
     "output_type": "display_data"
    },
    {
     "name": "stderr",
     "output_type": "stream",
     "text": [
      "\n",
      "\u001b[A"
     ]
    },
    {
     "data": {
      "text/html": [
       "Tracking run with wandb version 0.19.7"
      ],
      "text/plain": [
       "<IPython.core.display.HTML object>"
      ]
     },
     "metadata": {},
     "output_type": "display_data"
    },
    {
     "data": {
      "text/html": [
       "Run data is saved locally in <code>c:\\Users\\OMEN\\Documents\\BA_Code\\notebooks\\wandb\\run-20250401_144236-vd6g46sl</code>"
      ],
      "text/plain": [
       "<IPython.core.display.HTML object>"
      ]
     },
     "metadata": {},
     "output_type": "display_data"
    },
    {
     "data": {
      "text/html": [
       "Syncing run <strong><a href='https://wandb.ai/ewiehe-osna/animal-posture-classification/runs/vd6g46sl' target=\"_blank\">playful-gorge-1180</a></strong> to <a href='https://wandb.ai/ewiehe-osna/animal-posture-classification' target=\"_blank\">Weights & Biases</a> (<a href='https://wandb.me/developer-guide' target=\"_blank\">docs</a>)<br>"
      ],
      "text/plain": [
       "<IPython.core.display.HTML object>"
      ]
     },
     "metadata": {},
     "output_type": "display_data"
    },
    {
     "data": {
      "text/html": [
       " View project at <a href='https://wandb.ai/ewiehe-osna/animal-posture-classification' target=\"_blank\">https://wandb.ai/ewiehe-osna/animal-posture-classification</a>"
      ],
      "text/plain": [
       "<IPython.core.display.HTML object>"
      ]
     },
     "metadata": {},
     "output_type": "display_data"
    },
    {
     "data": {
      "text/html": [
       " View run at <a href='https://wandb.ai/ewiehe-osna/animal-posture-classification/runs/vd6g46sl' target=\"_blank\">https://wandb.ai/ewiehe-osna/animal-posture-classification/runs/vd6g46sl</a>"
      ],
      "text/plain": [
       "<IPython.core.display.HTML object>"
      ]
     },
     "metadata": {},
     "output_type": "display_data"
    },
    {
     "name": "stderr",
     "output_type": "stream",
     "text": [
      "\n",
      "\n",
      "Epochs:   0%|          | 0/30 [00:11<?, ?it/s]"
     ]
    },
    {
     "name": "stdout",
     "output_type": "stream",
     "text": [
      "Error in training: 'WindowsPath' object has no attribute 'ndim'\n"
     ]
    },
    {
     "name": "stderr",
     "output_type": "stream",
     "text": [
      "\n"
     ]
    },
    {
     "data": {
      "text/html": [],
      "text/plain": [
       "<IPython.core.display.HTML object>"
      ]
     },
     "metadata": {},
     "output_type": "display_data"
    },
    {
     "data": {
      "text/html": [
       " View run <strong style=\"color:#cdcd00\">playful-gorge-1180</strong> at: <a href='https://wandb.ai/ewiehe-osna/animal-posture-classification/runs/vd6g46sl' target=\"_blank\">https://wandb.ai/ewiehe-osna/animal-posture-classification/runs/vd6g46sl</a><br> View project at: <a href='https://wandb.ai/ewiehe-osna/animal-posture-classification' target=\"_blank\">https://wandb.ai/ewiehe-osna/animal-posture-classification</a><br>Synced 5 W&B file(s), 0 media file(s), 0 artifact file(s) and 0 other file(s)"
      ],
      "text/plain": [
       "<IPython.core.display.HTML object>"
      ]
     },
     "metadata": {},
     "output_type": "display_data"
    },
    {
     "data": {
      "text/html": [
       "Find logs at: <code>.\\wandb\\run-20250401_144236-vd6g46sl\\logs</code>"
      ],
      "text/plain": [
       "<IPython.core.display.HTML object>"
      ]
     },
     "metadata": {},
     "output_type": "display_data"
    },
    {
     "name": "stderr",
     "output_type": "stream",
     "text": [
      "\n",
      "\u001b[A"
     ]
    },
    {
     "data": {
      "text/html": [
       "Tracking run with wandb version 0.19.7"
      ],
      "text/plain": [
       "<IPython.core.display.HTML object>"
      ]
     },
     "metadata": {},
     "output_type": "display_data"
    },
    {
     "data": {
      "text/html": [
       "Run data is saved locally in <code>c:\\Users\\OMEN\\Documents\\BA_Code\\notebooks\\wandb\\run-20250401_144251-3touohns</code>"
      ],
      "text/plain": [
       "<IPython.core.display.HTML object>"
      ]
     },
     "metadata": {},
     "output_type": "display_data"
    },
    {
     "data": {
      "text/html": [
       "Syncing run <strong><a href='https://wandb.ai/ewiehe-osna/animal-posture-classification/runs/3touohns' target=\"_blank\">hearty-hill-1181</a></strong> to <a href='https://wandb.ai/ewiehe-osna/animal-posture-classification' target=\"_blank\">Weights & Biases</a> (<a href='https://wandb.me/developer-guide' target=\"_blank\">docs</a>)<br>"
      ],
      "text/plain": [
       "<IPython.core.display.HTML object>"
      ]
     },
     "metadata": {},
     "output_type": "display_data"
    },
    {
     "data": {
      "text/html": [
       " View project at <a href='https://wandb.ai/ewiehe-osna/animal-posture-classification' target=\"_blank\">https://wandb.ai/ewiehe-osna/animal-posture-classification</a>"
      ],
      "text/plain": [
       "<IPython.core.display.HTML object>"
      ]
     },
     "metadata": {},
     "output_type": "display_data"
    },
    {
     "data": {
      "text/html": [
       " View run at <a href='https://wandb.ai/ewiehe-osna/animal-posture-classification/runs/3touohns' target=\"_blank\">https://wandb.ai/ewiehe-osna/animal-posture-classification/runs/3touohns</a>"
      ],
      "text/plain": [
       "<IPython.core.display.HTML object>"
      ]
     },
     "metadata": {},
     "output_type": "display_data"
    },
    {
     "name": "stderr",
     "output_type": "stream",
     "text": [
      "\n",
      "\n",
      "Epochs:   0%|          | 0/30 [00:11<?, ?it/s]"
     ]
    },
    {
     "name": "stdout",
     "output_type": "stream",
     "text": [
      "Error in training: 'WindowsPath' object has no attribute 'ndim'\n"
     ]
    },
    {
     "name": "stderr",
     "output_type": "stream",
     "text": [
      "\n"
     ]
    },
    {
     "data": {
      "text/html": [],
      "text/plain": [
       "<IPython.core.display.HTML object>"
      ]
     },
     "metadata": {},
     "output_type": "display_data"
    },
    {
     "data": {
      "text/html": [
       " View run <strong style=\"color:#cdcd00\">hearty-hill-1181</strong> at: <a href='https://wandb.ai/ewiehe-osna/animal-posture-classification/runs/3touohns' target=\"_blank\">https://wandb.ai/ewiehe-osna/animal-posture-classification/runs/3touohns</a><br> View project at: <a href='https://wandb.ai/ewiehe-osna/animal-posture-classification' target=\"_blank\">https://wandb.ai/ewiehe-osna/animal-posture-classification</a><br>Synced 5 W&B file(s), 0 media file(s), 0 artifact file(s) and 0 other file(s)"
      ],
      "text/plain": [
       "<IPython.core.display.HTML object>"
      ]
     },
     "metadata": {},
     "output_type": "display_data"
    },
    {
     "data": {
      "text/html": [
       "Find logs at: <code>.\\wandb\\run-20250401_144251-3touohns\\logs</code>"
      ],
      "text/plain": [
       "<IPython.core.display.HTML object>"
      ]
     },
     "metadata": {},
     "output_type": "display_data"
    },
    {
     "name": "stderr",
     "output_type": "stream",
     "text": [
      "\n",
      "\u001b[A"
     ]
    },
    {
     "data": {
      "text/html": [
       "Tracking run with wandb version 0.19.7"
      ],
      "text/plain": [
       "<IPython.core.display.HTML object>"
      ]
     },
     "metadata": {},
     "output_type": "display_data"
    },
    {
     "data": {
      "text/html": [
       "Run data is saved locally in <code>c:\\Users\\OMEN\\Documents\\BA_Code\\notebooks\\wandb\\run-20250401_144306-sdjzo1ac</code>"
      ],
      "text/plain": [
       "<IPython.core.display.HTML object>"
      ]
     },
     "metadata": {},
     "output_type": "display_data"
    },
    {
     "data": {
      "text/html": [
       "Syncing run <strong><a href='https://wandb.ai/ewiehe-osna/animal-posture-classification/runs/sdjzo1ac' target=\"_blank\">morning-bush-1182</a></strong> to <a href='https://wandb.ai/ewiehe-osna/animal-posture-classification' target=\"_blank\">Weights & Biases</a> (<a href='https://wandb.me/developer-guide' target=\"_blank\">docs</a>)<br>"
      ],
      "text/plain": [
       "<IPython.core.display.HTML object>"
      ]
     },
     "metadata": {},
     "output_type": "display_data"
    },
    {
     "data": {
      "text/html": [
       " View project at <a href='https://wandb.ai/ewiehe-osna/animal-posture-classification' target=\"_blank\">https://wandb.ai/ewiehe-osna/animal-posture-classification</a>"
      ],
      "text/plain": [
       "<IPython.core.display.HTML object>"
      ]
     },
     "metadata": {},
     "output_type": "display_data"
    },
    {
     "data": {
      "text/html": [
       " View run at <a href='https://wandb.ai/ewiehe-osna/animal-posture-classification/runs/sdjzo1ac' target=\"_blank\">https://wandb.ai/ewiehe-osna/animal-posture-classification/runs/sdjzo1ac</a>"
      ],
      "text/plain": [
       "<IPython.core.display.HTML object>"
      ]
     },
     "metadata": {},
     "output_type": "display_data"
    },
    {
     "name": "stderr",
     "output_type": "stream",
     "text": [
      "\n",
      "\n",
      "Epochs:   0%|          | 0/30 [00:11<?, ?it/s]"
     ]
    },
    {
     "name": "stdout",
     "output_type": "stream",
     "text": [
      "Error in training: 'WindowsPath' object has no attribute 'ndim'\n"
     ]
    },
    {
     "name": "stderr",
     "output_type": "stream",
     "text": [
      "\n"
     ]
    },
    {
     "data": {
      "text/html": [],
      "text/plain": [
       "<IPython.core.display.HTML object>"
      ]
     },
     "metadata": {},
     "output_type": "display_data"
    },
    {
     "data": {
      "text/html": [
       " View run <strong style=\"color:#cdcd00\">morning-bush-1182</strong> at: <a href='https://wandb.ai/ewiehe-osna/animal-posture-classification/runs/sdjzo1ac' target=\"_blank\">https://wandb.ai/ewiehe-osna/animal-posture-classification/runs/sdjzo1ac</a><br> View project at: <a href='https://wandb.ai/ewiehe-osna/animal-posture-classification' target=\"_blank\">https://wandb.ai/ewiehe-osna/animal-posture-classification</a><br>Synced 5 W&B file(s), 0 media file(s), 0 artifact file(s) and 0 other file(s)"
      ],
      "text/plain": [
       "<IPython.core.display.HTML object>"
      ]
     },
     "metadata": {},
     "output_type": "display_data"
    },
    {
     "data": {
      "text/html": [
       "Find logs at: <code>.\\wandb\\run-20250401_144306-sdjzo1ac\\logs</code>"
      ],
      "text/plain": [
       "<IPython.core.display.HTML object>"
      ]
     },
     "metadata": {},
     "output_type": "display_data"
    },
    {
     "name": "stderr",
     "output_type": "stream",
     "text": [
      "\n",
      "Batch Sizes: 100%|██████████| 4/4 [00:48<00:00, 12.08s/it]\n",
      "\n",
      "\u001b[A"
     ]
    },
    {
     "data": {
      "text/html": [
       "Tracking run with wandb version 0.19.7"
      ],
      "text/plain": [
       "<IPython.core.display.HTML object>"
      ]
     },
     "metadata": {},
     "output_type": "display_data"
    },
    {
     "data": {
      "text/html": [
       "Run data is saved locally in <code>c:\\Users\\OMEN\\Documents\\BA_Code\\notebooks\\wandb\\run-20250401_144321-uthf5a03</code>"
      ],
      "text/plain": [
       "<IPython.core.display.HTML object>"
      ]
     },
     "metadata": {},
     "output_type": "display_data"
    },
    {
     "data": {
      "text/html": [
       "Syncing run <strong><a href='https://wandb.ai/ewiehe-osna/animal-posture-classification/runs/uthf5a03' target=\"_blank\">revived-morning-1183</a></strong> to <a href='https://wandb.ai/ewiehe-osna/animal-posture-classification' target=\"_blank\">Weights & Biases</a> (<a href='https://wandb.me/developer-guide' target=\"_blank\">docs</a>)<br>"
      ],
      "text/plain": [
       "<IPython.core.display.HTML object>"
      ]
     },
     "metadata": {},
     "output_type": "display_data"
    },
    {
     "data": {
      "text/html": [
       " View project at <a href='https://wandb.ai/ewiehe-osna/animal-posture-classification' target=\"_blank\">https://wandb.ai/ewiehe-osna/animal-posture-classification</a>"
      ],
      "text/plain": [
       "<IPython.core.display.HTML object>"
      ]
     },
     "metadata": {},
     "output_type": "display_data"
    },
    {
     "data": {
      "text/html": [
       " View run at <a href='https://wandb.ai/ewiehe-osna/animal-posture-classification/runs/uthf5a03' target=\"_blank\">https://wandb.ai/ewiehe-osna/animal-posture-classification/runs/uthf5a03</a>"
      ],
      "text/plain": [
       "<IPython.core.display.HTML object>"
      ]
     },
     "metadata": {},
     "output_type": "display_data"
    },
    {
     "name": "stderr",
     "output_type": "stream",
     "text": [
      "\n",
      "\n",
      "Epochs:   0%|          | 0/30 [00:00<?, ?it/s]"
     ]
    },
    {
     "name": "stdout",
     "output_type": "stream",
     "text": [
      "Error in training: Expected more than 1 value per channel when training, got input size torch.Size([1, 128])\n"
     ]
    },
    {
     "name": "stderr",
     "output_type": "stream",
     "text": [
      "\n"
     ]
    },
    {
     "data": {
      "text/html": [],
      "text/plain": [
       "<IPython.core.display.HTML object>"
      ]
     },
     "metadata": {},
     "output_type": "display_data"
    },
    {
     "data": {
      "text/html": [
       " View run <strong style=\"color:#cdcd00\">revived-morning-1183</strong> at: <a href='https://wandb.ai/ewiehe-osna/animal-posture-classification/runs/uthf5a03' target=\"_blank\">https://wandb.ai/ewiehe-osna/animal-posture-classification/runs/uthf5a03</a><br> View project at: <a href='https://wandb.ai/ewiehe-osna/animal-posture-classification' target=\"_blank\">https://wandb.ai/ewiehe-osna/animal-posture-classification</a><br>Synced 5 W&B file(s), 0 media file(s), 0 artifact file(s) and 0 other file(s)"
      ],
      "text/plain": [
       "<IPython.core.display.HTML object>"
      ]
     },
     "metadata": {},
     "output_type": "display_data"
    },
    {
     "data": {
      "text/html": [
       "Find logs at: <code>.\\wandb\\run-20250401_144321-uthf5a03\\logs</code>"
      ],
      "text/plain": [
       "<IPython.core.display.HTML object>"
      ]
     },
     "metadata": {},
     "output_type": "display_data"
    },
    {
     "name": "stderr",
     "output_type": "stream",
     "text": [
      "\n",
      "\u001b[A"
     ]
    },
    {
     "data": {
      "text/html": [
       "Tracking run with wandb version 0.19.7"
      ],
      "text/plain": [
       "<IPython.core.display.HTML object>"
      ]
     },
     "metadata": {},
     "output_type": "display_data"
    },
    {
     "data": {
      "text/html": [
       "Run data is saved locally in <code>c:\\Users\\OMEN\\Documents\\BA_Code\\notebooks\\wandb\\run-20250401_144324-qj0ptey9</code>"
      ],
      "text/plain": [
       "<IPython.core.display.HTML object>"
      ]
     },
     "metadata": {},
     "output_type": "display_data"
    },
    {
     "data": {
      "text/html": [
       "Syncing run <strong><a href='https://wandb.ai/ewiehe-osna/animal-posture-classification/runs/qj0ptey9' target=\"_blank\">stellar-plant-1184</a></strong> to <a href='https://wandb.ai/ewiehe-osna/animal-posture-classification' target=\"_blank\">Weights & Biases</a> (<a href='https://wandb.me/developer-guide' target=\"_blank\">docs</a>)<br>"
      ],
      "text/plain": [
       "<IPython.core.display.HTML object>"
      ]
     },
     "metadata": {},
     "output_type": "display_data"
    },
    {
     "data": {
      "text/html": [
       " View project at <a href='https://wandb.ai/ewiehe-osna/animal-posture-classification' target=\"_blank\">https://wandb.ai/ewiehe-osna/animal-posture-classification</a>"
      ],
      "text/plain": [
       "<IPython.core.display.HTML object>"
      ]
     },
     "metadata": {},
     "output_type": "display_data"
    },
    {
     "data": {
      "text/html": [
       " View run at <a href='https://wandb.ai/ewiehe-osna/animal-posture-classification/runs/qj0ptey9' target=\"_blank\">https://wandb.ai/ewiehe-osna/animal-posture-classification/runs/qj0ptey9</a>"
      ],
      "text/plain": [
       "<IPython.core.display.HTML object>"
      ]
     },
     "metadata": {},
     "output_type": "display_data"
    },
    {
     "name": "stderr",
     "output_type": "stream",
     "text": [
      "\n",
      "\n",
      "Epochs:   0%|          | 0/30 [00:12<?, ?it/s]"
     ]
    },
    {
     "name": "stdout",
     "output_type": "stream",
     "text": [
      "Error in training: 'WindowsPath' object has no attribute 'ndim'\n"
     ]
    },
    {
     "name": "stderr",
     "output_type": "stream",
     "text": [
      "\n"
     ]
    },
    {
     "data": {
      "text/html": [],
      "text/plain": [
       "<IPython.core.display.HTML object>"
      ]
     },
     "metadata": {},
     "output_type": "display_data"
    },
    {
     "data": {
      "text/html": [
       " View run <strong style=\"color:#cdcd00\">stellar-plant-1184</strong> at: <a href='https://wandb.ai/ewiehe-osna/animal-posture-classification/runs/qj0ptey9' target=\"_blank\">https://wandb.ai/ewiehe-osna/animal-posture-classification/runs/qj0ptey9</a><br> View project at: <a href='https://wandb.ai/ewiehe-osna/animal-posture-classification' target=\"_blank\">https://wandb.ai/ewiehe-osna/animal-posture-classification</a><br>Synced 5 W&B file(s), 0 media file(s), 0 artifact file(s) and 0 other file(s)"
      ],
      "text/plain": [
       "<IPython.core.display.HTML object>"
      ]
     },
     "metadata": {},
     "output_type": "display_data"
    },
    {
     "data": {
      "text/html": [
       "Find logs at: <code>.\\wandb\\run-20250401_144324-qj0ptey9\\logs</code>"
      ],
      "text/plain": [
       "<IPython.core.display.HTML object>"
      ]
     },
     "metadata": {},
     "output_type": "display_data"
    },
    {
     "name": "stderr",
     "output_type": "stream",
     "text": [
      "\n",
      "\u001b[A"
     ]
    },
    {
     "data": {
      "text/html": [
       "Tracking run with wandb version 0.19.7"
      ],
      "text/plain": [
       "<IPython.core.display.HTML object>"
      ]
     },
     "metadata": {},
     "output_type": "display_data"
    },
    {
     "data": {
      "text/html": [
       "Run data is saved locally in <code>c:\\Users\\OMEN\\Documents\\BA_Code\\notebooks\\wandb\\run-20250401_144340-ykakvu56</code>"
      ],
      "text/plain": [
       "<IPython.core.display.HTML object>"
      ]
     },
     "metadata": {},
     "output_type": "display_data"
    },
    {
     "data": {
      "text/html": [
       "Syncing run <strong><a href='https://wandb.ai/ewiehe-osna/animal-posture-classification/runs/ykakvu56' target=\"_blank\">generous-wildflower-1185</a></strong> to <a href='https://wandb.ai/ewiehe-osna/animal-posture-classification' target=\"_blank\">Weights & Biases</a> (<a href='https://wandb.me/developer-guide' target=\"_blank\">docs</a>)<br>"
      ],
      "text/plain": [
       "<IPython.core.display.HTML object>"
      ]
     },
     "metadata": {},
     "output_type": "display_data"
    },
    {
     "data": {
      "text/html": [
       " View project at <a href='https://wandb.ai/ewiehe-osna/animal-posture-classification' target=\"_blank\">https://wandb.ai/ewiehe-osna/animal-posture-classification</a>"
      ],
      "text/plain": [
       "<IPython.core.display.HTML object>"
      ]
     },
     "metadata": {},
     "output_type": "display_data"
    },
    {
     "data": {
      "text/html": [
       " View run at <a href='https://wandb.ai/ewiehe-osna/animal-posture-classification/runs/ykakvu56' target=\"_blank\">https://wandb.ai/ewiehe-osna/animal-posture-classification/runs/ykakvu56</a>"
      ],
      "text/plain": [
       "<IPython.core.display.HTML object>"
      ]
     },
     "metadata": {},
     "output_type": "display_data"
    },
    {
     "name": "stderr",
     "output_type": "stream",
     "text": [
      "\n",
      "\n",
      "Epochs:   0%|          | 0/30 [00:12<?, ?it/s]"
     ]
    },
    {
     "name": "stdout",
     "output_type": "stream",
     "text": [
      "Error in training: 'WindowsPath' object has no attribute 'ndim'\n"
     ]
    },
    {
     "name": "stderr",
     "output_type": "stream",
     "text": [
      "\n"
     ]
    },
    {
     "data": {
      "text/html": [],
      "text/plain": [
       "<IPython.core.display.HTML object>"
      ]
     },
     "metadata": {},
     "output_type": "display_data"
    },
    {
     "data": {
      "text/html": [
       " View run <strong style=\"color:#cdcd00\">generous-wildflower-1185</strong> at: <a href='https://wandb.ai/ewiehe-osna/animal-posture-classification/runs/ykakvu56' target=\"_blank\">https://wandb.ai/ewiehe-osna/animal-posture-classification/runs/ykakvu56</a><br> View project at: <a href='https://wandb.ai/ewiehe-osna/animal-posture-classification' target=\"_blank\">https://wandb.ai/ewiehe-osna/animal-posture-classification</a><br>Synced 5 W&B file(s), 0 media file(s), 0 artifact file(s) and 0 other file(s)"
      ],
      "text/plain": [
       "<IPython.core.display.HTML object>"
      ]
     },
     "metadata": {},
     "output_type": "display_data"
    },
    {
     "data": {
      "text/html": [
       "Find logs at: <code>.\\wandb\\run-20250401_144340-ykakvu56\\logs</code>"
      ],
      "text/plain": [
       "<IPython.core.display.HTML object>"
      ]
     },
     "metadata": {},
     "output_type": "display_data"
    },
    {
     "name": "stderr",
     "output_type": "stream",
     "text": [
      "\n",
      "\u001b[A"
     ]
    },
    {
     "data": {
      "text/html": [
       "Tracking run with wandb version 0.19.7"
      ],
      "text/plain": [
       "<IPython.core.display.HTML object>"
      ]
     },
     "metadata": {},
     "output_type": "display_data"
    },
    {
     "data": {
      "text/html": [
       "Run data is saved locally in <code>c:\\Users\\OMEN\\Documents\\BA_Code\\notebooks\\wandb\\run-20250401_144357-cqla8txk</code>"
      ],
      "text/plain": [
       "<IPython.core.display.HTML object>"
      ]
     },
     "metadata": {},
     "output_type": "display_data"
    },
    {
     "data": {
      "text/html": [
       "Syncing run <strong><a href='https://wandb.ai/ewiehe-osna/animal-posture-classification/runs/cqla8txk' target=\"_blank\">dashing-bush-1186</a></strong> to <a href='https://wandb.ai/ewiehe-osna/animal-posture-classification' target=\"_blank\">Weights & Biases</a> (<a href='https://wandb.me/developer-guide' target=\"_blank\">docs</a>)<br>"
      ],
      "text/plain": [
       "<IPython.core.display.HTML object>"
      ]
     },
     "metadata": {},
     "output_type": "display_data"
    },
    {
     "data": {
      "text/html": [
       " View project at <a href='https://wandb.ai/ewiehe-osna/animal-posture-classification' target=\"_blank\">https://wandb.ai/ewiehe-osna/animal-posture-classification</a>"
      ],
      "text/plain": [
       "<IPython.core.display.HTML object>"
      ]
     },
     "metadata": {},
     "output_type": "display_data"
    },
    {
     "data": {
      "text/html": [
       " View run at <a href='https://wandb.ai/ewiehe-osna/animal-posture-classification/runs/cqla8txk' target=\"_blank\">https://wandb.ai/ewiehe-osna/animal-posture-classification/runs/cqla8txk</a>"
      ],
      "text/plain": [
       "<IPython.core.display.HTML object>"
      ]
     },
     "metadata": {},
     "output_type": "display_data"
    },
    {
     "name": "stderr",
     "output_type": "stream",
     "text": [
      "\n",
      "\n",
      "Epochs:   0%|          | 0/30 [00:11<?, ?it/s]"
     ]
    },
    {
     "name": "stdout",
     "output_type": "stream",
     "text": [
      "Error in training: 'WindowsPath' object has no attribute 'ndim'\n"
     ]
    },
    {
     "name": "stderr",
     "output_type": "stream",
     "text": [
      "\n"
     ]
    },
    {
     "data": {
      "text/html": [],
      "text/plain": [
       "<IPython.core.display.HTML object>"
      ]
     },
     "metadata": {},
     "output_type": "display_data"
    },
    {
     "data": {
      "text/html": [
       " View run <strong style=\"color:#cdcd00\">dashing-bush-1186</strong> at: <a href='https://wandb.ai/ewiehe-osna/animal-posture-classification/runs/cqla8txk' target=\"_blank\">https://wandb.ai/ewiehe-osna/animal-posture-classification/runs/cqla8txk</a><br> View project at: <a href='https://wandb.ai/ewiehe-osna/animal-posture-classification' target=\"_blank\">https://wandb.ai/ewiehe-osna/animal-posture-classification</a><br>Synced 5 W&B file(s), 0 media file(s), 0 artifact file(s) and 0 other file(s)"
      ],
      "text/plain": [
       "<IPython.core.display.HTML object>"
      ]
     },
     "metadata": {},
     "output_type": "display_data"
    },
    {
     "data": {
      "text/html": [
       "Find logs at: <code>.\\wandb\\run-20250401_144357-cqla8txk\\logs</code>"
      ],
      "text/plain": [
       "<IPython.core.display.HTML object>"
      ]
     },
     "metadata": {},
     "output_type": "display_data"
    },
    {
     "name": "stderr",
     "output_type": "stream",
     "text": [
      "\n",
      "Batch Sizes: 100%|██████████| 4/4 [00:51<00:00, 12.81s/it]\n",
      "Learning Rates: 100%|██████████| 3/3 [02:25<00:00, 48.48s/it]\n",
      "Pretrained Options:  50%|█████     | 1/2 [02:25<02:25, 145.43s/it]\n",
      "\u001b[A"
     ]
    },
    {
     "data": {
      "text/html": [
       "Tracking run with wandb version 0.19.7"
      ],
      "text/plain": [
       "<IPython.core.display.HTML object>"
      ]
     },
     "metadata": {},
     "output_type": "display_data"
    },
    {
     "data": {
      "text/html": [
       "Run data is saved locally in <code>c:\\Users\\OMEN\\Documents\\BA_Code\\notebooks\\wandb\\run-20250401_144412-q0rnpyjv</code>"
      ],
      "text/plain": [
       "<IPython.core.display.HTML object>"
      ]
     },
     "metadata": {},
     "output_type": "display_data"
    },
    {
     "data": {
      "text/html": [
       "Syncing run <strong><a href='https://wandb.ai/ewiehe-osna/animal-posture-classification/runs/q0rnpyjv' target=\"_blank\">proud-water-1187</a></strong> to <a href='https://wandb.ai/ewiehe-osna/animal-posture-classification' target=\"_blank\">Weights & Biases</a> (<a href='https://wandb.me/developer-guide' target=\"_blank\">docs</a>)<br>"
      ],
      "text/plain": [
       "<IPython.core.display.HTML object>"
      ]
     },
     "metadata": {},
     "output_type": "display_data"
    },
    {
     "data": {
      "text/html": [
       " View project at <a href='https://wandb.ai/ewiehe-osna/animal-posture-classification' target=\"_blank\">https://wandb.ai/ewiehe-osna/animal-posture-classification</a>"
      ],
      "text/plain": [
       "<IPython.core.display.HTML object>"
      ]
     },
     "metadata": {},
     "output_type": "display_data"
    },
    {
     "data": {
      "text/html": [
       " View run at <a href='https://wandb.ai/ewiehe-osna/animal-posture-classification/runs/q0rnpyjv' target=\"_blank\">https://wandb.ai/ewiehe-osna/animal-posture-classification/runs/q0rnpyjv</a>"
      ],
      "text/plain": [
       "<IPython.core.display.HTML object>"
      ]
     },
     "metadata": {},
     "output_type": "display_data"
    },
    {
     "name": "stderr",
     "output_type": "stream",
     "text": [
      "\n",
      "\n",
      "Epochs:   0%|          | 0/30 [00:00<?, ?it/s]"
     ]
    },
    {
     "name": "stdout",
     "output_type": "stream",
     "text": [
      "Error in training: Expected more than 1 value per channel when training, got input size torch.Size([1, 128])\n"
     ]
    },
    {
     "name": "stderr",
     "output_type": "stream",
     "text": [
      "\n"
     ]
    },
    {
     "data": {
      "text/html": [],
      "text/plain": [
       "<IPython.core.display.HTML object>"
      ]
     },
     "metadata": {},
     "output_type": "display_data"
    },
    {
     "data": {
      "text/html": [
       " View run <strong style=\"color:#cdcd00\">proud-water-1187</strong> at: <a href='https://wandb.ai/ewiehe-osna/animal-posture-classification/runs/q0rnpyjv' target=\"_blank\">https://wandb.ai/ewiehe-osna/animal-posture-classification/runs/q0rnpyjv</a><br> View project at: <a href='https://wandb.ai/ewiehe-osna/animal-posture-classification' target=\"_blank\">https://wandb.ai/ewiehe-osna/animal-posture-classification</a><br>Synced 5 W&B file(s), 0 media file(s), 0 artifact file(s) and 0 other file(s)"
      ],
      "text/plain": [
       "<IPython.core.display.HTML object>"
      ]
     },
     "metadata": {},
     "output_type": "display_data"
    },
    {
     "data": {
      "text/html": [
       "Find logs at: <code>.\\wandb\\run-20250401_144412-q0rnpyjv\\logs</code>"
      ],
      "text/plain": [
       "<IPython.core.display.HTML object>"
      ]
     },
     "metadata": {},
     "output_type": "display_data"
    },
    {
     "name": "stderr",
     "output_type": "stream",
     "text": [
      "\n",
      "\u001b[A"
     ]
    },
    {
     "data": {
      "text/html": [
       "Tracking run with wandb version 0.19.7"
      ],
      "text/plain": [
       "<IPython.core.display.HTML object>"
      ]
     },
     "metadata": {},
     "output_type": "display_data"
    },
    {
     "data": {
      "text/html": [
       "Run data is saved locally in <code>c:\\Users\\OMEN\\Documents\\BA_Code\\notebooks\\wandb\\run-20250401_144415-rxf6fq37</code>"
      ],
      "text/plain": [
       "<IPython.core.display.HTML object>"
      ]
     },
     "metadata": {},
     "output_type": "display_data"
    },
    {
     "data": {
      "text/html": [
       "Syncing run <strong><a href='https://wandb.ai/ewiehe-osna/animal-posture-classification/runs/rxf6fq37' target=\"_blank\">fresh-river-1188</a></strong> to <a href='https://wandb.ai/ewiehe-osna/animal-posture-classification' target=\"_blank\">Weights & Biases</a> (<a href='https://wandb.me/developer-guide' target=\"_blank\">docs</a>)<br>"
      ],
      "text/plain": [
       "<IPython.core.display.HTML object>"
      ]
     },
     "metadata": {},
     "output_type": "display_data"
    },
    {
     "data": {
      "text/html": [
       " View project at <a href='https://wandb.ai/ewiehe-osna/animal-posture-classification' target=\"_blank\">https://wandb.ai/ewiehe-osna/animal-posture-classification</a>"
      ],
      "text/plain": [
       "<IPython.core.display.HTML object>"
      ]
     },
     "metadata": {},
     "output_type": "display_data"
    },
    {
     "data": {
      "text/html": [
       " View run at <a href='https://wandb.ai/ewiehe-osna/animal-posture-classification/runs/rxf6fq37' target=\"_blank\">https://wandb.ai/ewiehe-osna/animal-posture-classification/runs/rxf6fq37</a>"
      ],
      "text/plain": [
       "<IPython.core.display.HTML object>"
      ]
     },
     "metadata": {},
     "output_type": "display_data"
    },
    {
     "name": "stderr",
     "output_type": "stream",
     "text": [
      "\n",
      "\n",
      "Epochs:   0%|          | 0/30 [00:13<?, ?it/s]"
     ]
    },
    {
     "name": "stdout",
     "output_type": "stream",
     "text": [
      "Error in training: 'WindowsPath' object has no attribute 'ndim'\n"
     ]
    },
    {
     "name": "stderr",
     "output_type": "stream",
     "text": [
      "\n"
     ]
    },
    {
     "data": {
      "text/html": [],
      "text/plain": [
       "<IPython.core.display.HTML object>"
      ]
     },
     "metadata": {},
     "output_type": "display_data"
    },
    {
     "data": {
      "text/html": [
       " View run <strong style=\"color:#cdcd00\">fresh-river-1188</strong> at: <a href='https://wandb.ai/ewiehe-osna/animal-posture-classification/runs/rxf6fq37' target=\"_blank\">https://wandb.ai/ewiehe-osna/animal-posture-classification/runs/rxf6fq37</a><br> View project at: <a href='https://wandb.ai/ewiehe-osna/animal-posture-classification' target=\"_blank\">https://wandb.ai/ewiehe-osna/animal-posture-classification</a><br>Synced 5 W&B file(s), 0 media file(s), 0 artifact file(s) and 0 other file(s)"
      ],
      "text/plain": [
       "<IPython.core.display.HTML object>"
      ]
     },
     "metadata": {},
     "output_type": "display_data"
    },
    {
     "data": {
      "text/html": [
       "Find logs at: <code>.\\wandb\\run-20250401_144415-rxf6fq37\\logs</code>"
      ],
      "text/plain": [
       "<IPython.core.display.HTML object>"
      ]
     },
     "metadata": {},
     "output_type": "display_data"
    },
    {
     "name": "stderr",
     "output_type": "stream",
     "text": [
      "\n",
      "\u001b[A"
     ]
    },
    {
     "data": {
      "text/html": [
       "Tracking run with wandb version 0.19.7"
      ],
      "text/plain": [
       "<IPython.core.display.HTML object>"
      ]
     },
     "metadata": {},
     "output_type": "display_data"
    },
    {
     "data": {
      "text/html": [
       "Run data is saved locally in <code>c:\\Users\\OMEN\\Documents\\BA_Code\\notebooks\\wandb\\run-20250401_144432-vbhb14x7</code>"
      ],
      "text/plain": [
       "<IPython.core.display.HTML object>"
      ]
     },
     "metadata": {},
     "output_type": "display_data"
    },
    {
     "data": {
      "text/html": [
       "Syncing run <strong><a href='https://wandb.ai/ewiehe-osna/animal-posture-classification/runs/vbhb14x7' target=\"_blank\">woven-breeze-1189</a></strong> to <a href='https://wandb.ai/ewiehe-osna/animal-posture-classification' target=\"_blank\">Weights & Biases</a> (<a href='https://wandb.me/developer-guide' target=\"_blank\">docs</a>)<br>"
      ],
      "text/plain": [
       "<IPython.core.display.HTML object>"
      ]
     },
     "metadata": {},
     "output_type": "display_data"
    },
    {
     "data": {
      "text/html": [
       " View project at <a href='https://wandb.ai/ewiehe-osna/animal-posture-classification' target=\"_blank\">https://wandb.ai/ewiehe-osna/animal-posture-classification</a>"
      ],
      "text/plain": [
       "<IPython.core.display.HTML object>"
      ]
     },
     "metadata": {},
     "output_type": "display_data"
    },
    {
     "data": {
      "text/html": [
       " View run at <a href='https://wandb.ai/ewiehe-osna/animal-posture-classification/runs/vbhb14x7' target=\"_blank\">https://wandb.ai/ewiehe-osna/animal-posture-classification/runs/vbhb14x7</a>"
      ],
      "text/plain": [
       "<IPython.core.display.HTML object>"
      ]
     },
     "metadata": {},
     "output_type": "display_data"
    },
    {
     "name": "stderr",
     "output_type": "stream",
     "text": [
      "\n",
      "\n",
      "Epochs:   0%|          | 0/30 [00:13<?, ?it/s]"
     ]
    },
    {
     "name": "stdout",
     "output_type": "stream",
     "text": [
      "Error in training: 'WindowsPath' object has no attribute 'ndim'\n"
     ]
    },
    {
     "name": "stderr",
     "output_type": "stream",
     "text": [
      "\n"
     ]
    },
    {
     "data": {
      "text/html": [],
      "text/plain": [
       "<IPython.core.display.HTML object>"
      ]
     },
     "metadata": {},
     "output_type": "display_data"
    },
    {
     "data": {
      "text/html": [
       " View run <strong style=\"color:#cdcd00\">woven-breeze-1189</strong> at: <a href='https://wandb.ai/ewiehe-osna/animal-posture-classification/runs/vbhb14x7' target=\"_blank\">https://wandb.ai/ewiehe-osna/animal-posture-classification/runs/vbhb14x7</a><br> View project at: <a href='https://wandb.ai/ewiehe-osna/animal-posture-classification' target=\"_blank\">https://wandb.ai/ewiehe-osna/animal-posture-classification</a><br>Synced 5 W&B file(s), 0 media file(s), 0 artifact file(s) and 0 other file(s)"
      ],
      "text/plain": [
       "<IPython.core.display.HTML object>"
      ]
     },
     "metadata": {},
     "output_type": "display_data"
    },
    {
     "data": {
      "text/html": [
       "Find logs at: <code>.\\wandb\\run-20250401_144432-vbhb14x7\\logs</code>"
      ],
      "text/plain": [
       "<IPython.core.display.HTML object>"
      ]
     },
     "metadata": {},
     "output_type": "display_data"
    },
    {
     "name": "stderr",
     "output_type": "stream",
     "text": [
      "\n",
      "\u001b[A"
     ]
    },
    {
     "data": {
      "text/html": [
       "Tracking run with wandb version 0.19.7"
      ],
      "text/plain": [
       "<IPython.core.display.HTML object>"
      ]
     },
     "metadata": {},
     "output_type": "display_data"
    },
    {
     "data": {
      "text/html": [
       "Run data is saved locally in <code>c:\\Users\\OMEN\\Documents\\BA_Code\\notebooks\\wandb\\run-20250401_144449-ap20f4zt</code>"
      ],
      "text/plain": [
       "<IPython.core.display.HTML object>"
      ]
     },
     "metadata": {},
     "output_type": "display_data"
    },
    {
     "data": {
      "text/html": [
       "Syncing run <strong><a href='https://wandb.ai/ewiehe-osna/animal-posture-classification/runs/ap20f4zt' target=\"_blank\">breezy-bird-1190</a></strong> to <a href='https://wandb.ai/ewiehe-osna/animal-posture-classification' target=\"_blank\">Weights & Biases</a> (<a href='https://wandb.me/developer-guide' target=\"_blank\">docs</a>)<br>"
      ],
      "text/plain": [
       "<IPython.core.display.HTML object>"
      ]
     },
     "metadata": {},
     "output_type": "display_data"
    },
    {
     "data": {
      "text/html": [
       " View project at <a href='https://wandb.ai/ewiehe-osna/animal-posture-classification' target=\"_blank\">https://wandb.ai/ewiehe-osna/animal-posture-classification</a>"
      ],
      "text/plain": [
       "<IPython.core.display.HTML object>"
      ]
     },
     "metadata": {},
     "output_type": "display_data"
    },
    {
     "data": {
      "text/html": [
       " View run at <a href='https://wandb.ai/ewiehe-osna/animal-posture-classification/runs/ap20f4zt' target=\"_blank\">https://wandb.ai/ewiehe-osna/animal-posture-classification/runs/ap20f4zt</a>"
      ],
      "text/plain": [
       "<IPython.core.display.HTML object>"
      ]
     },
     "metadata": {},
     "output_type": "display_data"
    },
    {
     "name": "stderr",
     "output_type": "stream",
     "text": [
      "\n",
      "\n",
      "Epochs:   0%|          | 0/30 [00:10<?, ?it/s]"
     ]
    },
    {
     "name": "stdout",
     "output_type": "stream",
     "text": [
      "Error in training: 'WindowsPath' object has no attribute 'ndim'\n"
     ]
    },
    {
     "name": "stderr",
     "output_type": "stream",
     "text": [
      "\n"
     ]
    },
    {
     "data": {
      "text/html": [],
      "text/plain": [
       "<IPython.core.display.HTML object>"
      ]
     },
     "metadata": {},
     "output_type": "display_data"
    },
    {
     "data": {
      "text/html": [
       " View run <strong style=\"color:#cdcd00\">breezy-bird-1190</strong> at: <a href='https://wandb.ai/ewiehe-osna/animal-posture-classification/runs/ap20f4zt' target=\"_blank\">https://wandb.ai/ewiehe-osna/animal-posture-classification/runs/ap20f4zt</a><br> View project at: <a href='https://wandb.ai/ewiehe-osna/animal-posture-classification' target=\"_blank\">https://wandb.ai/ewiehe-osna/animal-posture-classification</a><br>Synced 5 W&B file(s), 0 media file(s), 0 artifact file(s) and 0 other file(s)"
      ],
      "text/plain": [
       "<IPython.core.display.HTML object>"
      ]
     },
     "metadata": {},
     "output_type": "display_data"
    },
    {
     "data": {
      "text/html": [
       "Find logs at: <code>.\\wandb\\run-20250401_144449-ap20f4zt\\logs</code>"
      ],
      "text/plain": [
       "<IPython.core.display.HTML object>"
      ]
     },
     "metadata": {},
     "output_type": "display_data"
    },
    {
     "name": "stderr",
     "output_type": "stream",
     "text": [
      "\n",
      "Batch Sizes: 100%|██████████| 4/4 [00:51<00:00, 12.80s/it]\n",
      "\n",
      "\u001b[A"
     ]
    },
    {
     "data": {
      "text/html": [
       "Tracking run with wandb version 0.19.7"
      ],
      "text/plain": [
       "<IPython.core.display.HTML object>"
      ]
     },
     "metadata": {},
     "output_type": "display_data"
    },
    {
     "data": {
      "text/html": [
       "Run data is saved locally in <code>c:\\Users\\OMEN\\Documents\\BA_Code\\notebooks\\wandb\\run-20250401_144503-wf5gzyh1</code>"
      ],
      "text/plain": [
       "<IPython.core.display.HTML object>"
      ]
     },
     "metadata": {},
     "output_type": "display_data"
    },
    {
     "data": {
      "text/html": [
       "Syncing run <strong><a href='https://wandb.ai/ewiehe-osna/animal-posture-classification/runs/wf5gzyh1' target=\"_blank\">crisp-dust-1191</a></strong> to <a href='https://wandb.ai/ewiehe-osna/animal-posture-classification' target=\"_blank\">Weights & Biases</a> (<a href='https://wandb.me/developer-guide' target=\"_blank\">docs</a>)<br>"
      ],
      "text/plain": [
       "<IPython.core.display.HTML object>"
      ]
     },
     "metadata": {},
     "output_type": "display_data"
    },
    {
     "data": {
      "text/html": [
       " View project at <a href='https://wandb.ai/ewiehe-osna/animal-posture-classification' target=\"_blank\">https://wandb.ai/ewiehe-osna/animal-posture-classification</a>"
      ],
      "text/plain": [
       "<IPython.core.display.HTML object>"
      ]
     },
     "metadata": {},
     "output_type": "display_data"
    },
    {
     "data": {
      "text/html": [
       " View run at <a href='https://wandb.ai/ewiehe-osna/animal-posture-classification/runs/wf5gzyh1' target=\"_blank\">https://wandb.ai/ewiehe-osna/animal-posture-classification/runs/wf5gzyh1</a>"
      ],
      "text/plain": [
       "<IPython.core.display.HTML object>"
      ]
     },
     "metadata": {},
     "output_type": "display_data"
    },
    {
     "name": "stderr",
     "output_type": "stream",
     "text": [
      "\n",
      "\n",
      "Epochs:   0%|          | 0/30 [00:00<?, ?it/s]"
     ]
    },
    {
     "name": "stdout",
     "output_type": "stream",
     "text": [
      "Error in training: Expected more than 1 value per channel when training, got input size torch.Size([1, 128])\n"
     ]
    },
    {
     "name": "stderr",
     "output_type": "stream",
     "text": [
      "\n"
     ]
    },
    {
     "data": {
      "text/html": [],
      "text/plain": [
       "<IPython.core.display.HTML object>"
      ]
     },
     "metadata": {},
     "output_type": "display_data"
    },
    {
     "data": {
      "text/html": [
       " View run <strong style=\"color:#cdcd00\">crisp-dust-1191</strong> at: <a href='https://wandb.ai/ewiehe-osna/animal-posture-classification/runs/wf5gzyh1' target=\"_blank\">https://wandb.ai/ewiehe-osna/animal-posture-classification/runs/wf5gzyh1</a><br> View project at: <a href='https://wandb.ai/ewiehe-osna/animal-posture-classification' target=\"_blank\">https://wandb.ai/ewiehe-osna/animal-posture-classification</a><br>Synced 5 W&B file(s), 0 media file(s), 0 artifact file(s) and 0 other file(s)"
      ],
      "text/plain": [
       "<IPython.core.display.HTML object>"
      ]
     },
     "metadata": {},
     "output_type": "display_data"
    },
    {
     "data": {
      "text/html": [
       "Find logs at: <code>.\\wandb\\run-20250401_144503-wf5gzyh1\\logs</code>"
      ],
      "text/plain": [
       "<IPython.core.display.HTML object>"
      ]
     },
     "metadata": {},
     "output_type": "display_data"
    },
    {
     "name": "stderr",
     "output_type": "stream",
     "text": [
      "\n",
      "\u001b[A"
     ]
    },
    {
     "data": {
      "text/html": [
       "Tracking run with wandb version 0.19.7"
      ],
      "text/plain": [
       "<IPython.core.display.HTML object>"
      ]
     },
     "metadata": {},
     "output_type": "display_data"
    },
    {
     "data": {
      "text/html": [
       "Run data is saved locally in <code>c:\\Users\\OMEN\\Documents\\BA_Code\\notebooks\\wandb\\run-20250401_144507-gxi09402</code>"
      ],
      "text/plain": [
       "<IPython.core.display.HTML object>"
      ]
     },
     "metadata": {},
     "output_type": "display_data"
    },
    {
     "data": {
      "text/html": [
       "Syncing run <strong><a href='https://wandb.ai/ewiehe-osna/animal-posture-classification/runs/gxi09402' target=\"_blank\">effortless-galaxy-1192</a></strong> to <a href='https://wandb.ai/ewiehe-osna/animal-posture-classification' target=\"_blank\">Weights & Biases</a> (<a href='https://wandb.me/developer-guide' target=\"_blank\">docs</a>)<br>"
      ],
      "text/plain": [
       "<IPython.core.display.HTML object>"
      ]
     },
     "metadata": {},
     "output_type": "display_data"
    },
    {
     "data": {
      "text/html": [
       " View project at <a href='https://wandb.ai/ewiehe-osna/animal-posture-classification' target=\"_blank\">https://wandb.ai/ewiehe-osna/animal-posture-classification</a>"
      ],
      "text/plain": [
       "<IPython.core.display.HTML object>"
      ]
     },
     "metadata": {},
     "output_type": "display_data"
    },
    {
     "data": {
      "text/html": [
       " View run at <a href='https://wandb.ai/ewiehe-osna/animal-posture-classification/runs/gxi09402' target=\"_blank\">https://wandb.ai/ewiehe-osna/animal-posture-classification/runs/gxi09402</a>"
      ],
      "text/plain": [
       "<IPython.core.display.HTML object>"
      ]
     },
     "metadata": {},
     "output_type": "display_data"
    },
    {
     "name": "stderr",
     "output_type": "stream",
     "text": [
      "\n",
      "\n",
      "Epochs:   0%|          | 0/30 [00:12<?, ?it/s]"
     ]
    },
    {
     "name": "stdout",
     "output_type": "stream",
     "text": [
      "Error in training: 'WindowsPath' object has no attribute 'ndim'\n"
     ]
    },
    {
     "name": "stderr",
     "output_type": "stream",
     "text": [
      "\n"
     ]
    },
    {
     "data": {
      "text/html": [],
      "text/plain": [
       "<IPython.core.display.HTML object>"
      ]
     },
     "metadata": {},
     "output_type": "display_data"
    },
    {
     "data": {
      "text/html": [
       " View run <strong style=\"color:#cdcd00\">effortless-galaxy-1192</strong> at: <a href='https://wandb.ai/ewiehe-osna/animal-posture-classification/runs/gxi09402' target=\"_blank\">https://wandb.ai/ewiehe-osna/animal-posture-classification/runs/gxi09402</a><br> View project at: <a href='https://wandb.ai/ewiehe-osna/animal-posture-classification' target=\"_blank\">https://wandb.ai/ewiehe-osna/animal-posture-classification</a><br>Synced 5 W&B file(s), 0 media file(s), 0 artifact file(s) and 0 other file(s)"
      ],
      "text/plain": [
       "<IPython.core.display.HTML object>"
      ]
     },
     "metadata": {},
     "output_type": "display_data"
    },
    {
     "data": {
      "text/html": [
       "Find logs at: <code>.\\wandb\\run-20250401_144507-gxi09402\\logs</code>"
      ],
      "text/plain": [
       "<IPython.core.display.HTML object>"
      ]
     },
     "metadata": {},
     "output_type": "display_data"
    },
    {
     "name": "stderr",
     "output_type": "stream",
     "text": [
      "\n",
      "\u001b[A"
     ]
    },
    {
     "data": {
      "text/html": [
       "Tracking run with wandb version 0.19.7"
      ],
      "text/plain": [
       "<IPython.core.display.HTML object>"
      ]
     },
     "metadata": {},
     "output_type": "display_data"
    },
    {
     "data": {
      "text/html": [
       "Run data is saved locally in <code>c:\\Users\\OMEN\\Documents\\BA_Code\\notebooks\\wandb\\run-20250401_144523-v7q99coy</code>"
      ],
      "text/plain": [
       "<IPython.core.display.HTML object>"
      ]
     },
     "metadata": {},
     "output_type": "display_data"
    },
    {
     "data": {
      "text/html": [
       "Syncing run <strong><a href='https://wandb.ai/ewiehe-osna/animal-posture-classification/runs/v7q99coy' target=\"_blank\">comfy-resonance-1193</a></strong> to <a href='https://wandb.ai/ewiehe-osna/animal-posture-classification' target=\"_blank\">Weights & Biases</a> (<a href='https://wandb.me/developer-guide' target=\"_blank\">docs</a>)<br>"
      ],
      "text/plain": [
       "<IPython.core.display.HTML object>"
      ]
     },
     "metadata": {},
     "output_type": "display_data"
    },
    {
     "data": {
      "text/html": [
       " View project at <a href='https://wandb.ai/ewiehe-osna/animal-posture-classification' target=\"_blank\">https://wandb.ai/ewiehe-osna/animal-posture-classification</a>"
      ],
      "text/plain": [
       "<IPython.core.display.HTML object>"
      ]
     },
     "metadata": {},
     "output_type": "display_data"
    },
    {
     "data": {
      "text/html": [
       " View run at <a href='https://wandb.ai/ewiehe-osna/animal-posture-classification/runs/v7q99coy' target=\"_blank\">https://wandb.ai/ewiehe-osna/animal-posture-classification/runs/v7q99coy</a>"
      ],
      "text/plain": [
       "<IPython.core.display.HTML object>"
      ]
     },
     "metadata": {},
     "output_type": "display_data"
    },
    {
     "name": "stderr",
     "output_type": "stream",
     "text": [
      "\n",
      "\n",
      "\u001b[A\u001b[A"
     ]
    }
   ],
   "source": [
    "for pretrained in tqdm(pretrained_options, desc=\"Pretrained Options\"):\n",
    "    for lr in tqdm(learning_rates, desc=\"Learning Rates\"):\n",
    "        for batch_size in tqdm(batch_sizes, desc=\"Batch Sizes\"):\n",
    "            # Initialize W&B run\n",
    "            wandb.init(\n",
    "                project=\"animal-posture-classification\",\n",
    "                config={\n",
    "                    \"model\": \"ResNet50\",\n",
    "                    \"pretrained\": pretrained,\n",
    "                    \"learning_rate\": lr,\n",
    "                    \"batch_size\": batch_size,\n",
    "                    \"epochs\": epochs,\n",
    "                    \"data_augmentation\": augementation,\n",
    "                    \"stable_diffusion\": use_stable_diffusion,\n",
    "                }\n",
    "            )\n",
    "            train_loader, val_loader = get_dataloaders(data_dir,batch_size= batch_size, augment=False)\n",
    "\n",
    "            # Initialize model\n",
    "            model = build_resnet_model(pretrained=pretrained, num_classes=len(class_names)).to(device)\n",
    "            \n",
    "            # Define Loss Function & Optimizer\n",
    "            criterion = nn.CrossEntropyLoss()\n",
    "            optimizer = optim.Adam(model.parameters(), lr=lr) \n",
    "\n",
    "            # Early Stopping Reset for Each Run\n",
    "            early_stopping = EarlyStopping(patience=4)\n",
    "\n",
    "            try:\n",
    "                for epoch in tqdm(range(epochs), desc=\"Epochs\"):\n",
    "                    start_time = time.time()\n",
    "                    model.train()\n",
    "                    train_loss = 0.0\n",
    "\n",
    "                    for images, labels in train_loader:\n",
    "                        images, labels = images.to(device), labels.to(device)\n",
    "                        optimizer.zero_grad()\n",
    "                        outputs = model(images)\n",
    "                        loss = criterion(outputs, labels)\n",
    "\n",
    "                        loss.backward()\n",
    "                        torch.nn.utils.clip_grad_norm_(model.parameters(), max_norm=1.0) \n",
    "                        optimizer.step()\n",
    "\n",
    "                        train_loss += loss.item()\n",
    "\n",
    "                    train_loss /= len(train_loader)\n",
    "\n",
    "                    # Validation\n",
    "                    model.eval()\n",
    "                    val_loss = 0.0\n",
    "                    all_preds, all_labels = [], []\n",
    "\n",
    "                    with torch.no_grad():\n",
    "                        for images, labels in val_loader:\n",
    "                            images, labels = images.to(device), labels.to(device)\n",
    "                            outputs = model(images)\n",
    "                            loss = criterion(outputs, labels)\n",
    "                            val_loss += loss.item()\n",
    "\n",
    "                            preds = torch.argmax(outputs, dim=1)\n",
    "                            all_preds.extend(preds.cpu().numpy().tolist())\n",
    "                            all_labels.extend(labels.cpu().numpy().tolist())\n",
    "\n",
    "                    val_loss /= len(val_loader)\n",
    "                    accuracy = accuracy_score(all_labels, all_preds)\n",
    "                    report = classification_report(all_labels, all_preds, target_names=class_names, output_dict=True, zero_division=0)\n",
    "\n",
    "                    # Create target directory if it doesn't exist\n",
    "                    conf_matrix_dir = Path(\"results/confusion_matrices\")\n",
    "                    conf_matrix_dir.mkdir(parents=True, exist_ok=True)\n",
    "\n",
    "                    # Save and Log Confusion Matrix\n",
    "                    cm = confusion_matrix(all_labels, all_preds)\n",
    "                    plt.figure(figsize=(6, 6))\n",
    "                    sns.heatmap(cm, annot=True, fmt=\"d\", cmap=\"Blues\", xticklabels=class_names, yticklabels=class_names)\n",
    "                    plt.xlabel(\"Predicted\")\n",
    "                    plt.ylabel(\"True\")\n",
    "\n",
    "                    # Save to results/confusion_matrices/\n",
    "                    cm_path = conf_matrix_dir / f\"conf_matrix_epoch{epoch+1}.png\"\n",
    "                    plt.savefig(cm_path)\n",
    "                    plt.close()\n",
    "\n",
    "                    # Always log confusion matrix\n",
    "                    wandb.log({\n",
    "                        \"epoch\": epoch + 1,\n",
    "                        \"train_loss\": train_loss,\n",
    "                        \"val_loss\": val_loss,\n",
    "                        \"val_accuracy\": accuracy,\n",
    "                        \"conf_matrix\": wandb.Image(cm_path),\n",
    "                        \"precision\": report[\"weighted avg\"][\"precision\"],\n",
    "                        \"recall\": report[\"weighted avg\"][\"recall\"],\n",
    "                        \"f1_score\": report[\"weighted avg\"][\"f1-score\"],\n",
    "                        \"actual_epochs\": epoch + 1  \n",
    "                    })\n",
    "\n",
    "                    # **Save the Best Confusion Matrix**\n",
    "                    if val_loss < best_val_loss:\n",
    "                        best_val_loss = val_loss\n",
    "                        best_conf_matrix_path = cm_path  \n",
    "\n",
    "                    # **Check Early Stopping Condition**\n",
    "                    if early_stopping(val_loss, model):  \n",
    "                        print(f\"Early stopping triggered at epoch {epoch + 1}. Stopping training.\")\n",
    "                        break\n",
    "\n",
    "\n",
    "            except Exception as e:\n",
    "                print(f\"Error in training: {e}\")\n",
    "            finally:\n",
    "                # **Log Best Confusion Matrix Separately (Final Run)**\n",
    "                if best_conf_matrix_path:\n",
    "                    wandb.log({\"Confusion Matrix\": wandb.Image(best_conf_matrix_path)})\n",
    "                \n",
    "                # Save the model\n",
    "                wandb.finish()  \n"
   ]
  }
 ],
 "metadata": {
  "kernelspec": {
   "display_name": "bachelor_thesis",
   "language": "python",
   "name": "python3"
  },
  "language_info": {
   "codemirror_mode": {
    "name": "ipython",
    "version": 3
   },
   "file_extension": ".py",
   "mimetype": "text/x-python",
   "name": "python",
   "nbconvert_exporter": "python",
   "pygments_lexer": "ipython3",
   "version": "3.10.14"
  }
 },
 "nbformat": 4,
 "nbformat_minor": 2
}
